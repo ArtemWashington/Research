{
  "cells": [
    {
      "cell_type": "markdown",
      "metadata": {
        "id": "1586d4dc-ab4f-4bdc-8a18-8ff206ef5777"
      },
      "source": [
        "# Случайный и направленный поиск лучших гиперпараметров."
      ],
      "id": "1586d4dc-ab4f-4bdc-8a18-8ff206ef5777"
    },
    {
      "cell_type": "markdown",
      "metadata": {
        "id": "ba82120e-04d9-49fb-a448-14f75aa5efa2"
      },
      "source": [
        "Большинство моделей содержат гиперпараметры, требующие подбора для наилучшей точности, такие как тип ядра в SVM и степень регуляризации.\n",
        "\n",
        "Как вы думаете, почему нельзя подбирать гиперпараметры по обучающей выборке, на которой настраивались обычные параметры моделей?\n",
        "\n",
        "Случайный поиск лучше поиска по сетке за счет более широкого перебора по пространству **важных** гиперпараметров:"
      ],
      "id": "ba82120e-04d9-49fb-a448-14f75aa5efa2"
    },
    {
      "cell_type": "markdown",
      "metadata": {
        "id": "4f3d804a-023b-475e-b8de-74a9d527aabb"
      },
      "source": [
        "<img src=\"grid and random search.png\" width=\"75%\">"
      ],
      "id": "4f3d804a-023b-475e-b8de-74a9d527aabb"
    },
    {
      "cell_type": "markdown",
      "metadata": {
        "id": "4c1ee8d7-2885-4938-a7a4-e55f217bd46e"
      },
      "source": [
        "# Загрузка датасета"
      ],
      "id": "4c1ee8d7-2885-4938-a7a4-e55f217bd46e"
    },
    {
      "cell_type": "code",
      "execution_count": 12,
      "metadata": {
        "id": "2569896a-8a08-4589-b9e7-df0524b4e453"
      },
      "outputs": [],
      "source": [
        "%matplotlib inline\n",
        "import numpy as np\n",
        "import matplotlib.pyplot as plt\n",
        "from time import time"
      ],
      "id": "2569896a-8a08-4589-b9e7-df0524b4e453"
    },
    {
      "cell_type": "code",
      "execution_count": 13,
      "metadata": {
        "id": "c6a33322-dc31-4093-97f6-b780c3599e21"
      },
      "outputs": [],
      "source": [
        "import sklearn\n",
        "from sklearn import datasets\n",
        "import pandas as pd"
      ],
      "id": "c6a33322-dc31-4093-97f6-b780c3599e21"
    },
    {
      "cell_type": "code",
      "execution_count": 14,
      "metadata": {
        "id": "8a3a8db7-9be4-4be1-a158-767b58380ba0"
      },
      "outputs": [],
      "source": [
        "data = datasets.fetch_openml(name='wdbc', version=1, parser='auto', data_home='datasets',\n",
        "                          as_frame=True)"
      ],
      "id": "8a3a8db7-9be4-4be1-a158-767b58380ba0"
    },
    {
      "cell_type": "code",
      "execution_count": 15,
      "metadata": {
        "colab": {
          "base_uri": "https://localhost:8080/",
          "height": 127
        },
        "id": "0a0de4f0-3fdc-49eb-9432-6f4c09637a74",
        "outputId": "3639e09a-15a4-4cd8-9647-e38cbf4be033"
      },
      "outputs": [
        {
          "output_type": "execute_result",
          "data": {
            "text/plain": [
              "'**Author**: William H. Wolberg, W. Nick Street, Olvi L. Mangasarian    \\n**Source**: [UCI](https://archive.ics.uci.edu/ml/datasets/breast+cancer+wisconsin+(original)), [University of Wisconsin](http://pages.cs.wisc.edu/~olvi/uwmp/cancer.html) - 1995  \\n**Please cite**: [UCI](https://archive.ics.uci.edu/ml/citation_policy.html)     \\n\\n**Breast Cancer Wisconsin (Diagnostic) Data Set (WDBC).** Features are computed from a digitized image of a fine needle aspirate (FNA) of a breast mass. They describe characteristics of the cell nuclei present in the image. The target feature records the prognosis (benign (1) or malignant (2)). [Original data available here](ftp://ftp.cs.wisc.edu/math-prog/cpo-dataset/machine-learn/cancer/) \\n\\nCurrent dataset was adapted to ARFF format from the UCI version. Sample code ID\\'s were removed.  \\n\\n! Note that there is also a related Breast Cancer Wisconsin (Original) Data Set with a different set of features, better known as [breast-w](https://www.openml.org/d/15).\\n\\n\\n### Feature description  \\n\\nTen real-valued features are computed for each of 3 cell nuclei, yielding a total of 30 descriptive features. See the papers below for more details on how they were computed. The 10 features (in order) are:  \\n\\na) radius (mean of distances from center to points on the perimeter)  \\nb) texture (standard deviation of gray-scale values)  \\nc) perimeter  \\nd) area  \\ne) smoothness (local variation in radius lengths)  \\nf) compactness (perimeter^2 / area - 1.0)  \\ng) concavity (severity of concave portions of the contour)  \\nh) concave points (number of concave portions of the contour)  \\ni) symmetry  \\nj) fractal dimension (\"coastline approximation\" - 1)  \\n\\n### Relevant Papers   \\n\\nW.N. Street, W.H. Wolberg and O.L. Mangasarian. Nuclear feature extraction for breast tumor diagnosis. IS&T/SPIE 1993 International Symposium on Electronic Imaging: Science and Technology, volume 1905, pages 861-870, San Jose, CA, 1993. \\n\\nO.L. Mangasarian, W.N. Street and W.H. Wolberg. Breast cancer diagnosis and prognosis via linear programming. Operations Research, 43(4), pages 570-577, July-August 1995.\\n\\nDownloaded from openml.org.'"
            ],
            "application/vnd.google.colaboratory.intrinsic+json": {
              "type": "string"
            }
          },
          "metadata": {},
          "execution_count": 15
        }
      ],
      "source": [
        "data.DESCR"
      ],
      "id": "0a0de4f0-3fdc-49eb-9432-6f4c09637a74"
    },
    {
      "cell_type": "code",
      "execution_count": 16,
      "metadata": {
        "id": "f95fbd52-44fe-498c-be47-cccb32a21e87"
      },
      "outputs": [],
      "source": [
        "X=data.data\n",
        "Y=data.target"
      ],
      "id": "f95fbd52-44fe-498c-be47-cccb32a21e87"
    },
    {
      "cell_type": "code",
      "execution_count": 17,
      "metadata": {
        "colab": {
          "base_uri": "https://localhost:8080/",
          "height": 263
        },
        "id": "8ad6a3c2-b2a0-46f9-9638-5f57547727f3",
        "outputId": "78098dce-3eb2-418e-8fd5-8b1c101d69cc"
      },
      "outputs": [
        {
          "output_type": "execute_result",
          "data": {
            "text/plain": [
              "      V1     V2      V3      V4       V5       V6      V7       V8      V9  \\\n",
              "0  17.99  10.38  122.80  1001.0  0.11840  0.27760  0.3001  0.14710  0.2419   \n",
              "1  20.57  17.77  132.90  1326.0  0.08474  0.07864  0.0869  0.07017  0.1812   \n",
              "2  19.69  21.25  130.00  1203.0  0.10960  0.15990  0.1974  0.12790  0.2069   \n",
              "3  11.42  20.38   77.58   386.1  0.14250  0.28390  0.2414  0.10520  0.2597   \n",
              "4  20.29  14.34  135.10  1297.0  0.10030  0.13280  0.1980  0.10430  0.1809   \n",
              "\n",
              "       V10  ...    V21    V22     V23     V24     V25     V26     V27     V28  \\\n",
              "0  0.07871  ...  25.38  17.33  184.60  2019.0  0.1622  0.6656  0.7119  0.2654   \n",
              "1  0.05667  ...  24.99  23.41  158.80  1956.0  0.1238  0.1866  0.2416  0.1860   \n",
              "2  0.05999  ...  23.57  25.53  152.50  1709.0  0.1444  0.4245  0.4504  0.2430   \n",
              "3  0.09744  ...  14.91  26.50   98.87   567.7  0.2098  0.8663  0.6869  0.2575   \n",
              "4  0.05883  ...  22.54  16.67  152.20  1575.0  0.1374  0.2050  0.4000  0.1625   \n",
              "\n",
              "      V29      V30  \n",
              "0  0.4601  0.11890  \n",
              "1  0.2750  0.08902  \n",
              "2  0.3613  0.08758  \n",
              "3  0.6638  0.17300  \n",
              "4  0.2364  0.07678  \n",
              "\n",
              "[5 rows x 30 columns]"
            ],
            "text/html": [
              "\n",
              "  <div id=\"df-76d7e88b-8b8e-4f9b-b230-b356972803f6\" class=\"colab-df-container\">\n",
              "    <div>\n",
              "<style scoped>\n",
              "    .dataframe tbody tr th:only-of-type {\n",
              "        vertical-align: middle;\n",
              "    }\n",
              "\n",
              "    .dataframe tbody tr th {\n",
              "        vertical-align: top;\n",
              "    }\n",
              "\n",
              "    .dataframe thead th {\n",
              "        text-align: right;\n",
              "    }\n",
              "</style>\n",
              "<table border=\"1\" class=\"dataframe\">\n",
              "  <thead>\n",
              "    <tr style=\"text-align: right;\">\n",
              "      <th></th>\n",
              "      <th>V1</th>\n",
              "      <th>V2</th>\n",
              "      <th>V3</th>\n",
              "      <th>V4</th>\n",
              "      <th>V5</th>\n",
              "      <th>V6</th>\n",
              "      <th>V7</th>\n",
              "      <th>V8</th>\n",
              "      <th>V9</th>\n",
              "      <th>V10</th>\n",
              "      <th>...</th>\n",
              "      <th>V21</th>\n",
              "      <th>V22</th>\n",
              "      <th>V23</th>\n",
              "      <th>V24</th>\n",
              "      <th>V25</th>\n",
              "      <th>V26</th>\n",
              "      <th>V27</th>\n",
              "      <th>V28</th>\n",
              "      <th>V29</th>\n",
              "      <th>V30</th>\n",
              "    </tr>\n",
              "  </thead>\n",
              "  <tbody>\n",
              "    <tr>\n",
              "      <th>0</th>\n",
              "      <td>17.99</td>\n",
              "      <td>10.38</td>\n",
              "      <td>122.80</td>\n",
              "      <td>1001.0</td>\n",
              "      <td>0.11840</td>\n",
              "      <td>0.27760</td>\n",
              "      <td>0.3001</td>\n",
              "      <td>0.14710</td>\n",
              "      <td>0.2419</td>\n",
              "      <td>0.07871</td>\n",
              "      <td>...</td>\n",
              "      <td>25.38</td>\n",
              "      <td>17.33</td>\n",
              "      <td>184.60</td>\n",
              "      <td>2019.0</td>\n",
              "      <td>0.1622</td>\n",
              "      <td>0.6656</td>\n",
              "      <td>0.7119</td>\n",
              "      <td>0.2654</td>\n",
              "      <td>0.4601</td>\n",
              "      <td>0.11890</td>\n",
              "    </tr>\n",
              "    <tr>\n",
              "      <th>1</th>\n",
              "      <td>20.57</td>\n",
              "      <td>17.77</td>\n",
              "      <td>132.90</td>\n",
              "      <td>1326.0</td>\n",
              "      <td>0.08474</td>\n",
              "      <td>0.07864</td>\n",
              "      <td>0.0869</td>\n",
              "      <td>0.07017</td>\n",
              "      <td>0.1812</td>\n",
              "      <td>0.05667</td>\n",
              "      <td>...</td>\n",
              "      <td>24.99</td>\n",
              "      <td>23.41</td>\n",
              "      <td>158.80</td>\n",
              "      <td>1956.0</td>\n",
              "      <td>0.1238</td>\n",
              "      <td>0.1866</td>\n",
              "      <td>0.2416</td>\n",
              "      <td>0.1860</td>\n",
              "      <td>0.2750</td>\n",
              "      <td>0.08902</td>\n",
              "    </tr>\n",
              "    <tr>\n",
              "      <th>2</th>\n",
              "      <td>19.69</td>\n",
              "      <td>21.25</td>\n",
              "      <td>130.00</td>\n",
              "      <td>1203.0</td>\n",
              "      <td>0.10960</td>\n",
              "      <td>0.15990</td>\n",
              "      <td>0.1974</td>\n",
              "      <td>0.12790</td>\n",
              "      <td>0.2069</td>\n",
              "      <td>0.05999</td>\n",
              "      <td>...</td>\n",
              "      <td>23.57</td>\n",
              "      <td>25.53</td>\n",
              "      <td>152.50</td>\n",
              "      <td>1709.0</td>\n",
              "      <td>0.1444</td>\n",
              "      <td>0.4245</td>\n",
              "      <td>0.4504</td>\n",
              "      <td>0.2430</td>\n",
              "      <td>0.3613</td>\n",
              "      <td>0.08758</td>\n",
              "    </tr>\n",
              "    <tr>\n",
              "      <th>3</th>\n",
              "      <td>11.42</td>\n",
              "      <td>20.38</td>\n",
              "      <td>77.58</td>\n",
              "      <td>386.1</td>\n",
              "      <td>0.14250</td>\n",
              "      <td>0.28390</td>\n",
              "      <td>0.2414</td>\n",
              "      <td>0.10520</td>\n",
              "      <td>0.2597</td>\n",
              "      <td>0.09744</td>\n",
              "      <td>...</td>\n",
              "      <td>14.91</td>\n",
              "      <td>26.50</td>\n",
              "      <td>98.87</td>\n",
              "      <td>567.7</td>\n",
              "      <td>0.2098</td>\n",
              "      <td>0.8663</td>\n",
              "      <td>0.6869</td>\n",
              "      <td>0.2575</td>\n",
              "      <td>0.6638</td>\n",
              "      <td>0.17300</td>\n",
              "    </tr>\n",
              "    <tr>\n",
              "      <th>4</th>\n",
              "      <td>20.29</td>\n",
              "      <td>14.34</td>\n",
              "      <td>135.10</td>\n",
              "      <td>1297.0</td>\n",
              "      <td>0.10030</td>\n",
              "      <td>0.13280</td>\n",
              "      <td>0.1980</td>\n",
              "      <td>0.10430</td>\n",
              "      <td>0.1809</td>\n",
              "      <td>0.05883</td>\n",
              "      <td>...</td>\n",
              "      <td>22.54</td>\n",
              "      <td>16.67</td>\n",
              "      <td>152.20</td>\n",
              "      <td>1575.0</td>\n",
              "      <td>0.1374</td>\n",
              "      <td>0.2050</td>\n",
              "      <td>0.4000</td>\n",
              "      <td>0.1625</td>\n",
              "      <td>0.2364</td>\n",
              "      <td>0.07678</td>\n",
              "    </tr>\n",
              "  </tbody>\n",
              "</table>\n",
              "<p>5 rows × 30 columns</p>\n",
              "</div>\n",
              "    <div class=\"colab-df-buttons\">\n",
              "\n",
              "  <div class=\"colab-df-container\">\n",
              "    <button class=\"colab-df-convert\" onclick=\"convertToInteractive('df-76d7e88b-8b8e-4f9b-b230-b356972803f6')\"\n",
              "            title=\"Convert this dataframe to an interactive table.\"\n",
              "            style=\"display:none;\">\n",
              "\n",
              "  <svg xmlns=\"http://www.w3.org/2000/svg\" height=\"24px\" viewBox=\"0 -960 960 960\">\n",
              "    <path d=\"M120-120v-720h720v720H120Zm60-500h600v-160H180v160Zm220 220h160v-160H400v160Zm0 220h160v-160H400v160ZM180-400h160v-160H180v160Zm440 0h160v-160H620v160ZM180-180h160v-160H180v160Zm440 0h160v-160H620v160Z\"/>\n",
              "  </svg>\n",
              "    </button>\n",
              "\n",
              "  <style>\n",
              "    .colab-df-container {\n",
              "      display:flex;\n",
              "      gap: 12px;\n",
              "    }\n",
              "\n",
              "    .colab-df-convert {\n",
              "      background-color: #E8F0FE;\n",
              "      border: none;\n",
              "      border-radius: 50%;\n",
              "      cursor: pointer;\n",
              "      display: none;\n",
              "      fill: #1967D2;\n",
              "      height: 32px;\n",
              "      padding: 0 0 0 0;\n",
              "      width: 32px;\n",
              "    }\n",
              "\n",
              "    .colab-df-convert:hover {\n",
              "      background-color: #E2EBFA;\n",
              "      box-shadow: 0px 1px 2px rgba(60, 64, 67, 0.3), 0px 1px 3px 1px rgba(60, 64, 67, 0.15);\n",
              "      fill: #174EA6;\n",
              "    }\n",
              "\n",
              "    .colab-df-buttons div {\n",
              "      margin-bottom: 4px;\n",
              "    }\n",
              "\n",
              "    [theme=dark] .colab-df-convert {\n",
              "      background-color: #3B4455;\n",
              "      fill: #D2E3FC;\n",
              "    }\n",
              "\n",
              "    [theme=dark] .colab-df-convert:hover {\n",
              "      background-color: #434B5C;\n",
              "      box-shadow: 0px 1px 3px 1px rgba(0, 0, 0, 0.15);\n",
              "      filter: drop-shadow(0px 1px 2px rgba(0, 0, 0, 0.3));\n",
              "      fill: #FFFFFF;\n",
              "    }\n",
              "  </style>\n",
              "\n",
              "    <script>\n",
              "      const buttonEl =\n",
              "        document.querySelector('#df-76d7e88b-8b8e-4f9b-b230-b356972803f6 button.colab-df-convert');\n",
              "      buttonEl.style.display =\n",
              "        google.colab.kernel.accessAllowed ? 'block' : 'none';\n",
              "\n",
              "      async function convertToInteractive(key) {\n",
              "        const element = document.querySelector('#df-76d7e88b-8b8e-4f9b-b230-b356972803f6');\n",
              "        const dataTable =\n",
              "          await google.colab.kernel.invokeFunction('convertToInteractive',\n",
              "                                                    [key], {});\n",
              "        if (!dataTable) return;\n",
              "\n",
              "        const docLinkHtml = 'Like what you see? Visit the ' +\n",
              "          '<a target=\"_blank\" href=https://colab.research.google.com/notebooks/data_table.ipynb>data table notebook</a>'\n",
              "          + ' to learn more about interactive tables.';\n",
              "        element.innerHTML = '';\n",
              "        dataTable['output_type'] = 'display_data';\n",
              "        await google.colab.output.renderOutput(dataTable, element);\n",
              "        const docLink = document.createElement('div');\n",
              "        docLink.innerHTML = docLinkHtml;\n",
              "        element.appendChild(docLink);\n",
              "      }\n",
              "    </script>\n",
              "  </div>\n",
              "\n",
              "\n",
              "<div id=\"df-40c51d90-9d1a-4466-aed1-771b4442a414\">\n",
              "  <button class=\"colab-df-quickchart\" onclick=\"quickchart('df-40c51d90-9d1a-4466-aed1-771b4442a414')\"\n",
              "            title=\"Suggest charts.\"\n",
              "            style=\"display:none;\">\n",
              "\n",
              "<svg xmlns=\"http://www.w3.org/2000/svg\" height=\"24px\"viewBox=\"0 0 24 24\"\n",
              "     width=\"24px\">\n",
              "    <g>\n",
              "        <path d=\"M19 3H5c-1.1 0-2 .9-2 2v14c0 1.1.9 2 2 2h14c1.1 0 2-.9 2-2V5c0-1.1-.9-2-2-2zM9 17H7v-7h2v7zm4 0h-2V7h2v10zm4 0h-2v-4h2v4z\"/>\n",
              "    </g>\n",
              "</svg>\n",
              "  </button>\n",
              "\n",
              "<style>\n",
              "  .colab-df-quickchart {\n",
              "      --bg-color: #E8F0FE;\n",
              "      --fill-color: #1967D2;\n",
              "      --hover-bg-color: #E2EBFA;\n",
              "      --hover-fill-color: #174EA6;\n",
              "      --disabled-fill-color: #AAA;\n",
              "      --disabled-bg-color: #DDD;\n",
              "  }\n",
              "\n",
              "  [theme=dark] .colab-df-quickchart {\n",
              "      --bg-color: #3B4455;\n",
              "      --fill-color: #D2E3FC;\n",
              "      --hover-bg-color: #434B5C;\n",
              "      --hover-fill-color: #FFFFFF;\n",
              "      --disabled-bg-color: #3B4455;\n",
              "      --disabled-fill-color: #666;\n",
              "  }\n",
              "\n",
              "  .colab-df-quickchart {\n",
              "    background-color: var(--bg-color);\n",
              "    border: none;\n",
              "    border-radius: 50%;\n",
              "    cursor: pointer;\n",
              "    display: none;\n",
              "    fill: var(--fill-color);\n",
              "    height: 32px;\n",
              "    padding: 0;\n",
              "    width: 32px;\n",
              "  }\n",
              "\n",
              "  .colab-df-quickchart:hover {\n",
              "    background-color: var(--hover-bg-color);\n",
              "    box-shadow: 0 1px 2px rgba(60, 64, 67, 0.3), 0 1px 3px 1px rgba(60, 64, 67, 0.15);\n",
              "    fill: var(--button-hover-fill-color);\n",
              "  }\n",
              "\n",
              "  .colab-df-quickchart-complete:disabled,\n",
              "  .colab-df-quickchart-complete:disabled:hover {\n",
              "    background-color: var(--disabled-bg-color);\n",
              "    fill: var(--disabled-fill-color);\n",
              "    box-shadow: none;\n",
              "  }\n",
              "\n",
              "  .colab-df-spinner {\n",
              "    border: 2px solid var(--fill-color);\n",
              "    border-color: transparent;\n",
              "    border-bottom-color: var(--fill-color);\n",
              "    animation:\n",
              "      spin 1s steps(1) infinite;\n",
              "  }\n",
              "\n",
              "  @keyframes spin {\n",
              "    0% {\n",
              "      border-color: transparent;\n",
              "      border-bottom-color: var(--fill-color);\n",
              "      border-left-color: var(--fill-color);\n",
              "    }\n",
              "    20% {\n",
              "      border-color: transparent;\n",
              "      border-left-color: var(--fill-color);\n",
              "      border-top-color: var(--fill-color);\n",
              "    }\n",
              "    30% {\n",
              "      border-color: transparent;\n",
              "      border-left-color: var(--fill-color);\n",
              "      border-top-color: var(--fill-color);\n",
              "      border-right-color: var(--fill-color);\n",
              "    }\n",
              "    40% {\n",
              "      border-color: transparent;\n",
              "      border-right-color: var(--fill-color);\n",
              "      border-top-color: var(--fill-color);\n",
              "    }\n",
              "    60% {\n",
              "      border-color: transparent;\n",
              "      border-right-color: var(--fill-color);\n",
              "    }\n",
              "    80% {\n",
              "      border-color: transparent;\n",
              "      border-right-color: var(--fill-color);\n",
              "      border-bottom-color: var(--fill-color);\n",
              "    }\n",
              "    90% {\n",
              "      border-color: transparent;\n",
              "      border-bottom-color: var(--fill-color);\n",
              "    }\n",
              "  }\n",
              "</style>\n",
              "\n",
              "  <script>\n",
              "    async function quickchart(key) {\n",
              "      const quickchartButtonEl =\n",
              "        document.querySelector('#' + key + ' button');\n",
              "      quickchartButtonEl.disabled = true;  // To prevent multiple clicks.\n",
              "      quickchartButtonEl.classList.add('colab-df-spinner');\n",
              "      try {\n",
              "        const charts = await google.colab.kernel.invokeFunction(\n",
              "            'suggestCharts', [key], {});\n",
              "      } catch (error) {\n",
              "        console.error('Error during call to suggestCharts:', error);\n",
              "      }\n",
              "      quickchartButtonEl.classList.remove('colab-df-spinner');\n",
              "      quickchartButtonEl.classList.add('colab-df-quickchart-complete');\n",
              "    }\n",
              "    (() => {\n",
              "      let quickchartButtonEl =\n",
              "        document.querySelector('#df-40c51d90-9d1a-4466-aed1-771b4442a414 button');\n",
              "      quickchartButtonEl.style.display =\n",
              "        google.colab.kernel.accessAllowed ? 'block' : 'none';\n",
              "    })();\n",
              "  </script>\n",
              "</div>\n",
              "    </div>\n",
              "  </div>\n"
            ]
          },
          "metadata": {},
          "execution_count": 17
        },
        {
          "output_type": "stream",
          "name": "stdout",
          "text": [
            "Warning: Total number of columns (30) exceeds max_columns (20) limiting to first (20) columns.\n"
          ]
        }
      ],
      "source": [
        "X.head()"
      ],
      "id": "8ad6a3c2-b2a0-46f9-9638-5f57547727f3"
    },
    {
      "cell_type": "code",
      "execution_count": 18,
      "metadata": {
        "colab": {
          "base_uri": "https://localhost:8080/"
        },
        "id": "03c00d87-f741-4ebf-a4af-efc592178db1",
        "outputId": "87bd2242-c4db-4575-a4a6-f8909e6b8483"
      },
      "outputs": [
        {
          "output_type": "execute_result",
          "data": {
            "text/plain": [
              "(569, 30)"
            ]
          },
          "metadata": {},
          "execution_count": 18
        }
      ],
      "source": [
        "len(X), len(X.columns)"
      ],
      "id": "03c00d87-f741-4ebf-a4af-efc592178db1"
    },
    {
      "cell_type": "code",
      "execution_count": 19,
      "metadata": {
        "colab": {
          "base_uri": "https://localhost:8080/"
        },
        "id": "8bc159c3-f613-46ba-ab9b-7ca037df77aa",
        "outputId": "0f4efc5a-1d32-4517-fc0f-9d7f450ddc7a"
      },
      "outputs": [
        {
          "output_type": "execute_result",
          "data": {
            "text/plain": [
              "0    2\n",
              "1    2\n",
              "2    2\n",
              "3    2\n",
              "4    2\n",
              "Name: Class, dtype: category\n",
              "Categories (2, object): ['1', '2']"
            ]
          },
          "metadata": {},
          "execution_count": 19
        }
      ],
      "source": [
        "Y.head()"
      ],
      "id": "8bc159c3-f613-46ba-ab9b-7ca037df77aa"
    },
    {
      "cell_type": "code",
      "execution_count": 20,
      "metadata": {
        "id": "ad7dd45c-faac-4aca-b96b-db3974861f55"
      },
      "outputs": [],
      "source": [
        "Y=Y.cat.rename_categories([0,1]).astype(int)"
      ],
      "id": "ad7dd45c-faac-4aca-b96b-db3974861f55"
    },
    {
      "cell_type": "code",
      "execution_count": 21,
      "metadata": {
        "colab": {
          "base_uri": "https://localhost:8080/"
        },
        "id": "0f577f17-2f2f-43c0-8c80-3991848ae27c",
        "outputId": "932492d9-2c36-4971-b95f-11c69d76e380"
      },
      "outputs": [
        {
          "output_type": "execute_result",
          "data": {
            "text/plain": [
              "array([1, 0])"
            ]
          },
          "metadata": {},
          "execution_count": 21
        }
      ],
      "source": [
        "Y.unique()"
      ],
      "id": "0f577f17-2f2f-43c0-8c80-3991848ae27c"
    },
    {
      "cell_type": "code",
      "execution_count": 22,
      "metadata": {
        "id": "052fcf93-ad44-417a-8b7a-a208a57c9955"
      },
      "outputs": [],
      "source": [
        "Z=X.copy()\n",
        "Z['Y']=Y"
      ],
      "id": "052fcf93-ad44-417a-8b7a-a208a57c9955"
    },
    {
      "cell_type": "code",
      "execution_count": 23,
      "metadata": {
        "id": "8f5d573e-61fc-4a04-b6a6-9153c67775ec"
      },
      "outputs": [],
      "source": [
        "np.random.seed(0)\n",
        "Z = Z.sample(frac=1).reset_index(drop=True)"
      ],
      "id": "8f5d573e-61fc-4a04-b6a6-9153c67775ec"
    },
    {
      "cell_type": "code",
      "execution_count": 24,
      "metadata": {
        "colab": {
          "base_uri": "https://localhost:8080/"
        },
        "id": "b76b701a-d407-491a-8e75-9badac9d3538",
        "outputId": "848ede42-b4ed-4301-e6b9-a83d024ec48e"
      },
      "outputs": [
        {
          "output_type": "execute_result",
          "data": {
            "text/plain": [
              "(569, 341, 228)"
            ]
          },
          "metadata": {},
          "execution_count": 24
        }
      ],
      "source": [
        "from sklearn.model_selection import train_test_split\n",
        "\n",
        "Z_train, Z_test, ind_train, ind_test = train_test_split(Z, np.arange(len(Z)), test_size=0.4, shuffle=True, random_state=0, stratify=Z['Y'])   # разделим в на обучение/тест в заданной пропорции\n",
        "\n",
        "len(Z), len(Z_train), len(Z_test)"
      ],
      "id": "b76b701a-d407-491a-8e75-9badac9d3538"
    },
    {
      "cell_type": "code",
      "execution_count": 25,
      "metadata": {
        "id": "cbe86de9-aa32-4d30-8ea9-8a6dde1e417d"
      },
      "outputs": [],
      "source": [
        "def XY_split(Z):\n",
        "    '''Функция разбиения по признаки и отклики'''\n",
        "    Y = Z['Y']\n",
        "    X = Z.copy()\n",
        "    X = X.drop('Y',axis=1)\n",
        "    return X,Y\n",
        "\n",
        "X_train, Y_train = XY_split(Z_train)\n",
        "X_test, Y_test = XY_split(Z_test)\n",
        "X, Y = XY_split(Z)"
      ],
      "id": "cbe86de9-aa32-4d30-8ea9-8a6dde1e417d"
    },
    {
      "cell_type": "markdown",
      "metadata": {
        "id": "2c2dcf09-21bb-4f91-b11d-51e6066531e5"
      },
      "source": [
        "Будем классифицировать объекты методом SVM.\n",
        "\n",
        "Гиперпараметры:\n",
        "- `C`: выбор между точностью и простотой модели\n",
        "- `kernel in ['linear', 'poly', 'rbf']`: тип ядра\n",
        "- `degree`: степень полиномиального ядра\n",
        "- `rbf`=$\\frac{1}{2 \\sigma^2}$: контролирует разброс Гауссова ядра"
      ],
      "id": "2c2dcf09-21bb-4f91-b11d-51e6066531e5"
    },
    {
      "cell_type": "code",
      "execution_count": 26,
      "metadata": {
        "id": "39a7601c-5062-41c7-8bd1-a50a0a27ffbf"
      },
      "outputs": [],
      "source": [
        "from sklearn.svm import SVC"
      ],
      "id": "39a7601c-5062-41c7-8bd1-a50a0a27ffbf"
    },
    {
      "cell_type": "code",
      "execution_count": 27,
      "metadata": {
        "id": "486db4d9-a5f0-49c2-acb2-ed1c7f3c9ecb"
      },
      "outputs": [],
      "source": [
        "N_TRIALS = 40  # число испытаний (эффективнее, когда делится на #ядер процессора)"
      ],
      "id": "486db4d9-a5f0-49c2-acb2-ed1c7f3c9ecb"
    },
    {
      "cell_type": "markdown",
      "metadata": {
        "id": "3c77899a-e113-40c8-93f1-08a274571d90"
      },
      "source": [
        "# Случайный поиск в `sklearn`"
      ],
      "id": "3c77899a-e113-40c8-93f1-08a274571d90"
    },
    {
      "cell_type": "code",
      "execution_count": 28,
      "metadata": {
        "id": "a8597bfb-e7a1-4a90-90e5-6168648fc084"
      },
      "outputs": [],
      "source": [
        "from sklearn.model_selection import RandomizedSearchCV\n",
        "\n",
        "from scipy.stats import uniform, randint, loguniform\n",
        "\n",
        "\n",
        "distributions = dict(C=loguniform(1e-10, 1e4),\n",
        "                     kernel=['linear', 'poly', 'rbf'],\n",
        "                     degree=randint(0, 5),\n",
        "                     gamma=uniform(0, 2))\n",
        "\n",
        "model = SVC()\n",
        "clf = RandomizedSearchCV(model, distributions, n_iter=N_TRIALS, cv=[[ind_train, ind_test]], n_jobs=-1, verbose=10, random_state=0)"
      ],
      "id": "a8597bfb-e7a1-4a90-90e5-6168648fc084"
    },
    {
      "cell_type": "code",
      "source": [
        "start = time()\n",
        "test = clf.fit(X.to_numpy(), Y.to_numpy())\n",
        "random_search_time = time() - start\n",
        "random_search_params = test.best_params_"
      ],
      "metadata": {
        "colab": {
          "base_uri": "https://localhost:8080/"
        },
        "id": "9DaA5XZJ-1DD",
        "outputId": "5f2ac2f4-6d24-42f4-94a5-e2f4fdf37133"
      },
      "id": "9DaA5XZJ-1DD",
      "execution_count": 29,
      "outputs": [
        {
          "output_type": "stream",
          "name": "stdout",
          "text": [
            "Fitting 1 folds for each of 40 candidates, totalling 40 fits\n"
          ]
        }
      ]
    },
    {
      "cell_type": "code",
      "execution_count": null,
      "metadata": {
        "colab": {
          "background_save": true,
          "base_uri": "https://localhost:8080/"
        },
        "id": "7d20c3d5-4d29-4cad-93cd-f182639453d3",
        "outputId": "0baa518d-02f6-492d-9238-47e0f970737a"
      },
      "outputs": [
        {
          "name": "stdout",
          "output_type": "stream",
          "text": [
            "Fitting 1 folds for each of 40 candidates, totalling 40 fits\n"
          ]
        },
        {
          "data": {
            "text/plain": [
              "(0.9473684210526315,\n",
              " {'C': 45.360500482124316,\n",
              "  'degree': 0,\n",
              "  'gamma': 1.957236684465528,\n",
              "  'kernel': 'linear'})"
            ]
          },
          "execution_count": 27,
          "metadata": {},
          "output_type": "execute_result"
        }
      ],
      "source": [
        "%time\n",
        "test = clf.fit(X.to_numpy(), Y.to_numpy())\n",
        "test.best_score_, test.best_params_"
      ],
      "id": "7d20c3d5-4d29-4cad-93cd-f182639453d3"
    },
    {
      "cell_type": "markdown",
      "metadata": {
        "id": "7cda929a-d704-433a-9eeb-9386b1edb031"
      },
      "source": [
        "Проверим инициализацию лучшими параметрами:"
      ],
      "id": "7cda929a-d704-433a-9eeb-9386b1edb031"
    },
    {
      "cell_type": "code",
      "execution_count": 30,
      "metadata": {
        "colab": {
          "base_uri": "https://localhost:8080/",
          "height": 93
        },
        "id": "966021be-64bf-45f7-b2e8-6cf5c7427b74",
        "outputId": "a710fc4e-c1e2-47c0-dc23-509625bef971"
      },
      "outputs": [
        {
          "output_type": "display_data",
          "data": {
            "text/plain": [
              "SVC(C=45.360500482124316, degree=0, gamma=1.957236684465528, kernel='linear')"
            ],
            "text/html": [
              "<style>#sk-container-id-1 {color: black;background-color: white;}#sk-container-id-1 pre{padding: 0;}#sk-container-id-1 div.sk-toggleable {background-color: white;}#sk-container-id-1 label.sk-toggleable__label {cursor: pointer;display: block;width: 100%;margin-bottom: 0;padding: 0.3em;box-sizing: border-box;text-align: center;}#sk-container-id-1 label.sk-toggleable__label-arrow:before {content: \"▸\";float: left;margin-right: 0.25em;color: #696969;}#sk-container-id-1 label.sk-toggleable__label-arrow:hover:before {color: black;}#sk-container-id-1 div.sk-estimator:hover label.sk-toggleable__label-arrow:before {color: black;}#sk-container-id-1 div.sk-toggleable__content {max-height: 0;max-width: 0;overflow: hidden;text-align: left;background-color: #f0f8ff;}#sk-container-id-1 div.sk-toggleable__content pre {margin: 0.2em;color: black;border-radius: 0.25em;background-color: #f0f8ff;}#sk-container-id-1 input.sk-toggleable__control:checked~div.sk-toggleable__content {max-height: 200px;max-width: 100%;overflow: auto;}#sk-container-id-1 input.sk-toggleable__control:checked~label.sk-toggleable__label-arrow:before {content: \"▾\";}#sk-container-id-1 div.sk-estimator input.sk-toggleable__control:checked~label.sk-toggleable__label {background-color: #d4ebff;}#sk-container-id-1 div.sk-label input.sk-toggleable__control:checked~label.sk-toggleable__label {background-color: #d4ebff;}#sk-container-id-1 input.sk-hidden--visually {border: 0;clip: rect(1px 1px 1px 1px);clip: rect(1px, 1px, 1px, 1px);height: 1px;margin: -1px;overflow: hidden;padding: 0;position: absolute;width: 1px;}#sk-container-id-1 div.sk-estimator {font-family: monospace;background-color: #f0f8ff;border: 1px dotted black;border-radius: 0.25em;box-sizing: border-box;margin-bottom: 0.5em;}#sk-container-id-1 div.sk-estimator:hover {background-color: #d4ebff;}#sk-container-id-1 div.sk-parallel-item::after {content: \"\";width: 100%;border-bottom: 1px solid gray;flex-grow: 1;}#sk-container-id-1 div.sk-label:hover label.sk-toggleable__label {background-color: #d4ebff;}#sk-container-id-1 div.sk-serial::before {content: \"\";position: absolute;border-left: 1px solid gray;box-sizing: border-box;top: 0;bottom: 0;left: 50%;z-index: 0;}#sk-container-id-1 div.sk-serial {display: flex;flex-direction: column;align-items: center;background-color: white;padding-right: 0.2em;padding-left: 0.2em;position: relative;}#sk-container-id-1 div.sk-item {position: relative;z-index: 1;}#sk-container-id-1 div.sk-parallel {display: flex;align-items: stretch;justify-content: center;background-color: white;position: relative;}#sk-container-id-1 div.sk-item::before, #sk-container-id-1 div.sk-parallel-item::before {content: \"\";position: absolute;border-left: 1px solid gray;box-sizing: border-box;top: 0;bottom: 0;left: 50%;z-index: -1;}#sk-container-id-1 div.sk-parallel-item {display: flex;flex-direction: column;z-index: 1;position: relative;background-color: white;}#sk-container-id-1 div.sk-parallel-item:first-child::after {align-self: flex-end;width: 50%;}#sk-container-id-1 div.sk-parallel-item:last-child::after {align-self: flex-start;width: 50%;}#sk-container-id-1 div.sk-parallel-item:only-child::after {width: 0;}#sk-container-id-1 div.sk-dashed-wrapped {border: 1px dashed gray;margin: 0 0.4em 0.5em 0.4em;box-sizing: border-box;padding-bottom: 0.4em;background-color: white;}#sk-container-id-1 div.sk-label label {font-family: monospace;font-weight: bold;display: inline-block;line-height: 1.2em;}#sk-container-id-1 div.sk-label-container {text-align: center;}#sk-container-id-1 div.sk-container {/* jupyter's `normalize.less` sets `[hidden] { display: none; }` but bootstrap.min.css set `[hidden] { display: none !important; }` so we also need the `!important` here to be able to override the default hidden behavior on the sphinx rendered scikit-learn.org. See: https://github.com/scikit-learn/scikit-learn/issues/21755 */display: inline-block !important;position: relative;}#sk-container-id-1 div.sk-text-repr-fallback {display: none;}</style><div id=\"sk-container-id-1\" class=\"sk-top-container\"><div class=\"sk-text-repr-fallback\"><pre>SVC(C=45.360500482124316, degree=0, gamma=1.957236684465528, kernel=&#x27;linear&#x27;)</pre><b>In a Jupyter environment, please rerun this cell to show the HTML representation or trust the notebook. <br />On GitHub, the HTML representation is unable to render, please try loading this page with nbviewer.org.</b></div><div class=\"sk-container\" hidden><div class=\"sk-item\"><div class=\"sk-estimator sk-toggleable\"><input class=\"sk-toggleable__control sk-hidden--visually\" id=\"sk-estimator-id-1\" type=\"checkbox\" checked><label for=\"sk-estimator-id-1\" class=\"sk-toggleable__label sk-toggleable__label-arrow\">SVC</label><div class=\"sk-toggleable__content\"><pre>SVC(C=45.360500482124316, degree=0, gamma=1.957236684465528, kernel=&#x27;linear&#x27;)</pre></div></div></div></div></div>"
            ]
          },
          "metadata": {}
        },
        {
          "output_type": "stream",
          "name": "stdout",
          "text": [
            "Accuracy: 0.947\n"
          ]
        }
      ],
      "source": [
        "model = SVC(**test.best_params_)\n",
        "model.fit(X_train, Y_train)\n",
        "display(model)\n",
        "\n",
        "random_search_accuracy = (model.predict(X_test) == Y_test).mean()\n",
        "print(f'Accuracy: {random_search_accuracy:.3f}')"
      ],
      "id": "966021be-64bf-45f7-b2e8-6cf5c7427b74"
    },
    {
      "cell_type": "markdown",
      "metadata": {
        "id": "2f707059-9a8e-4870-8213-5884c78b5195"
      },
      "source": [
        "# Направленный поиск в Optuna"
      ],
      "id": "2f707059-9a8e-4870-8213-5884c78b5195"
    },
    {
      "cell_type": "code",
      "execution_count": 31,
      "metadata": {
        "colab": {
          "base_uri": "https://localhost:8080/"
        },
        "id": "nwQjBtYwxuC8",
        "outputId": "2cce5def-ac8e-4984-bbb0-dfcea8112a65"
      },
      "outputs": [
        {
          "output_type": "stream",
          "name": "stdout",
          "text": [
            "Collecting optuna\n",
            "  Downloading optuna-3.4.0-py3-none-any.whl (409 kB)\n",
            "\u001b[2K     \u001b[90m━━━━━━━━━━━━━━━━━━━━━━━━━━━━━━━━━━━━━━━━\u001b[0m \u001b[32m409.6/409.6 kB\u001b[0m \u001b[31m5.1 MB/s\u001b[0m eta \u001b[36m0:00:00\u001b[0m\n",
            "\u001b[?25hCollecting alembic>=1.5.0 (from optuna)\n",
            "  Downloading alembic-1.12.1-py3-none-any.whl (226 kB)\n",
            "\u001b[2K     \u001b[90m━━━━━━━━━━━━━━━━━━━━━━━━━━━━━━━━━━━━━━━━\u001b[0m \u001b[32m226.8/226.8 kB\u001b[0m \u001b[31m21.5 MB/s\u001b[0m eta \u001b[36m0:00:00\u001b[0m\n",
            "\u001b[?25hCollecting colorlog (from optuna)\n",
            "  Downloading colorlog-6.7.0-py2.py3-none-any.whl (11 kB)\n",
            "Requirement already satisfied: numpy in /usr/local/lib/python3.10/dist-packages (from optuna) (1.23.5)\n",
            "Requirement already satisfied: packaging>=20.0 in /usr/local/lib/python3.10/dist-packages (from optuna) (23.2)\n",
            "Requirement already satisfied: sqlalchemy>=1.3.0 in /usr/local/lib/python3.10/dist-packages (from optuna) (2.0.22)\n",
            "Requirement already satisfied: tqdm in /usr/local/lib/python3.10/dist-packages (from optuna) (4.66.1)\n",
            "Requirement already satisfied: PyYAML in /usr/local/lib/python3.10/dist-packages (from optuna) (6.0.1)\n",
            "Collecting Mako (from alembic>=1.5.0->optuna)\n",
            "  Downloading Mako-1.2.4-py3-none-any.whl (78 kB)\n",
            "\u001b[2K     \u001b[90m━━━━━━━━━━━━━━━━━━━━━━━━━━━━━━━━━━━━━━━━\u001b[0m \u001b[32m78.7/78.7 kB\u001b[0m \u001b[31m8.4 MB/s\u001b[0m eta \u001b[36m0:00:00\u001b[0m\n",
            "\u001b[?25hRequirement already satisfied: typing-extensions>=4 in /usr/local/lib/python3.10/dist-packages (from alembic>=1.5.0->optuna) (4.5.0)\n",
            "Requirement already satisfied: greenlet!=0.4.17 in /usr/local/lib/python3.10/dist-packages (from sqlalchemy>=1.3.0->optuna) (3.0.0)\n",
            "Requirement already satisfied: MarkupSafe>=0.9.2 in /usr/local/lib/python3.10/dist-packages (from Mako->alembic>=1.5.0->optuna) (2.1.3)\n",
            "Installing collected packages: Mako, colorlog, alembic, optuna\n",
            "Successfully installed Mako-1.2.4 alembic-1.12.1 colorlog-6.7.0 optuna-3.4.0\n"
          ]
        }
      ],
      "source": [
        "!pip install optuna"
      ],
      "id": "nwQjBtYwxuC8"
    },
    {
      "cell_type": "code",
      "execution_count": 32,
      "metadata": {
        "id": "f0b86b22-ae25-4783-8e29-af7bb4049c34"
      },
      "outputs": [],
      "source": [
        "import optuna   # установка в conda: conda install -c conda-forge optuna"
      ],
      "id": "f0b86b22-ae25-4783-8e29-af7bb4049c34"
    },
    {
      "cell_type": "markdown",
      "metadata": {
        "id": "61c76cce-9eff-4030-a021-c54a448cce8a"
      },
      "source": [
        "Теперь подбор гиперпараметров будем осуществлять с помощью библиотеки optuna.\n",
        "\n",
        "Рассмотрим основные объекты:"
      ],
      "id": "61c76cce-9eff-4030-a021-c54a448cce8a"
    },
    {
      "cell_type": "markdown",
      "metadata": {
        "id": "b25e43c6-e3c9-4ece-9931-a82c348907f8"
      },
      "source": [
        "Если нужно передавать дополнительные аргументы в `objective` - см. в [документации](https://optuna.readthedocs.io/en/stable/faq.html#objective-func-additional-args)."
      ],
      "id": "b25e43c6-e3c9-4ece-9931-a82c348907f8"
    },
    {
      "cell_type": "code",
      "execution_count": 34,
      "metadata": {
        "id": "a347f0f1-6bd8-44fe-8fd0-97721612a1bf"
      },
      "outputs": [],
      "source": [
        "# FYI: Objective functions can take additional arguments\n",
        "# ().\n",
        "def objective(trial):\n",
        "\n",
        "    kernel = trial.suggest_categorical(\"kernel\", [\"linear\", \"poly\", \"rbf\"])\n",
        "\n",
        "    c = trial.suggest_float(\"C\", 1e-10, 1e4, log=True)\n",
        "    degree = 3\n",
        "    gamma = 'scale'\n",
        "    if kernel == \"poly\":\n",
        "        degree = trial.suggest_int(\"degree\", 0, 5)\n",
        "    if kernel == \"rbf\":\n",
        "        gamma = trial.suggest_float(\"gamma\", 0, 2)\n",
        "\n",
        "    model = SVC(C=c, kernel=kernel, degree=degree, gamma=gamma)\n",
        "\n",
        "    model.fit(X_train, Y_train)\n",
        "    accuracy = (model.predict(X_test) == Y_test).mean()\n",
        "\n",
        "    return accuracy"
      ],
      "id": "a347f0f1-6bd8-44fe-8fd0-97721612a1bf"
    },
    {
      "cell_type": "markdown",
      "metadata": {
        "id": "078b112b-0320-45c3-89aa-048489470400"
      },
      "source": [
        "Функция objective фактически должна содержать в себе весь пайплайн построения, обучения и применения модели, и должна возвращать некоторое число - нашу метрику оценивания модели.\n",
        "В качестве метрики можно использовать любое число.\n",
        "\n",
        "Отличие objective от простого пайплайна модели в том, что эта функция принимает на вход аргумент trial, который можно использовать для получения **некоторых заранее неизвестных значений** гиперпараметров нашей модели из заранее определенного диапазона.\n",
        "\n",
        "С помощью функций trial.suggest_int, trial.suggest_float и других мы можем получить некоторое значение параметра, которое используем дальше в пайплайне построения модели."
      ],
      "id": "078b112b-0320-45c3-89aa-048489470400"
    },
    {
      "cell_type": "code",
      "execution_count": 35,
      "metadata": {
        "colab": {
          "base_uri": "https://localhost:8080/"
        },
        "id": "c53db5df-70eb-4514-866f-0f883f3a1ab5",
        "outputId": "d90781d6-9eed-41c5-ae5a-85dbb0aa4bb3"
      },
      "outputs": [
        {
          "output_type": "stream",
          "name": "stderr",
          "text": [
            "[I 2023-11-06 00:24:13,453] A new study created in memory with name: no-name-78c83441-2ade-492a-9dc8-2559f6dd51e1\n"
          ]
        }
      ],
      "source": [
        "sampler = optuna.samplers.TPESampler(seed=0)  # Зафиксируем тип случайности для воспроизводимости. Необязательно в общем случае.\n",
        "study = optuna.create_study(sampler=sampler, direction=\"maximize\")"
      ],
      "id": "c53db5df-70eb-4514-866f-0f883f3a1ab5"
    },
    {
      "cell_type": "markdown",
      "metadata": {
        "id": "30bab0f5-b654-4bfb-8f59-165b8b456be6"
      },
      "source": [
        "study - объект класса Study в библиотеке optuna -- определяет ход нашего \"исследования\".\n",
        "\n",
        "Параметры позволяют определить, в какую сторону нужно оптимизировать метрику нашего objective, какой sampler и pruner использовать.\n",
        "\n",
        "sampler - способ, которым будут выбираться параметры, получаемые с помощью trial.suggest_int и аналогичных функций. Базово используется байесовский TPESampler, подбирающий гиперпараметры по условным распределениям гиперпараметров. Также часто используются GridSampler - подбор параметров по сетке (декартово произведение задаваемых множеств параметров) - и RandomSampler - случайные значения параметров из заданных диапазонов.\n",
        "\n",
        "\"Исследование\" запускается с помощью метода optimize:"
      ],
      "id": "30bab0f5-b654-4bfb-8f59-165b8b456be6"
    },
    {
      "cell_type": "code",
      "execution_count": null,
      "metadata": {
        "colab": {
          "base_uri": "https://localhost:8080/"
        },
        "id": "05f6ec08-804c-4feb-96ea-c815f8d2483b",
        "outputId": "9c5ff66e-16f6-4197-93af-b1361dee43a2"
      },
      "outputs": [
        {
          "name": "stderr",
          "output_type": "stream",
          "text": [
            "[I 2023-10-17 13:16:00,490] Trial 1 finished with value: 0.8991228070175439 and parameters: {'kernel': 'poly', 'C': 1.2738026522726107, 'degree': 2}. Best is trial 1 with value: 0.8991228070175439.\n",
            "[I 2023-10-17 13:16:00,501] Trial 0 finished with value: 0.8508771929824561 and parameters: {'kernel': 'poly', 'C': 0.028952506815487538, 'degree': 1}. Best is trial 1 with value: 0.8991228070175439.\n",
            "[I 2023-10-17 13:16:00,581] Trial 2 finished with value: 0.6271929824561403 and parameters: {'kernel': 'poly', 'C': 1.9049137134942349e-06, 'degree': 1}. Best is trial 1 with value: 0.8991228070175439.\n",
            "[I 2023-10-17 13:16:00,588] Trial 3 finished with value: 0.6271929824561403 and parameters: {'kernel': 'poly', 'C': 6.64914432114095e-10, 'degree': 5}. Best is trial 1 with value: 0.8991228070175439.\n",
            "[I 2023-10-17 13:16:00,627] Trial 4 finished with value: 0.8991228070175439 and parameters: {'kernel': 'linear', 'C': 3.7480873832151823e-07}. Best is trial 1 with value: 0.8991228070175439.\n",
            "[I 2023-10-17 13:16:00,678] Trial 5 finished with value: 0.6271929824561403 and parameters: {'kernel': 'rbf', 'C': 1.2845108797774838e-07, 'gamma': 0.11411776630274861}. Best is trial 1 with value: 0.8991228070175439.\n",
            "[I 2023-10-17 13:16:00,683] Trial 6 finished with value: 0.6271929824561403 and parameters: {'kernel': 'poly', 'C': 7.027610315931839e-09, 'degree': 3}. Best is trial 1 with value: 0.8991228070175439.\n",
            "[I 2023-10-17 13:16:00,765] Trial 8 finished with value: 0.6271929824561403 and parameters: {'kernel': 'rbf', 'C': 3.84838380445294e-10, 'gamma': 0.9999290966108008}. Best is trial 1 with value: 0.8991228070175439.\n",
            "[I 2023-10-17 13:16:00,830] Trial 9 finished with value: 0.6271929824561403 and parameters: {'kernel': 'rbf', 'C': 1.3280932064093962e-06, 'gamma': 0.7081200634937903}. Best is trial 1 with value: 0.8991228070175439.\n",
            "[I 2023-10-17 13:16:00,875] Trial 10 finished with value: 0.8903508771929824 and parameters: {'kernel': 'linear', 'C': 8.130243359608973e-08}. Best is trial 1 with value: 0.8991228070175439.\n",
            "[I 2023-10-17 13:16:00,934] Trial 11 finished with value: 0.9298245614035088 and parameters: {'kernel': 'poly', 'C': 406.798190442904, 'degree': 3}. Best is trial 11 with value: 0.9298245614035088.\n",
            "[I 2023-10-17 13:16:00,987] Trial 12 finished with value: 0.9342105263157895 and parameters: {'kernel': 'poly', 'C': 386.86411025781615, 'degree': 3}. Best is trial 12 with value: 0.9342105263157895.\n",
            "[I 2023-10-17 13:16:01,197] Trial 13 finished with value: 0.9254385964912281 and parameters: {'kernel': 'poly', 'C': 9219.290058162225, 'degree': 4}. Best is trial 12 with value: 0.9342105263157895.\n",
            "[I 2023-10-17 13:16:01,362] Trial 14 finished with value: 0.9298245614035088 and parameters: {'kernel': 'poly', 'C': 3188.901865867268, 'degree': 3}. Best is trial 12 with value: 0.9342105263157895.\n",
            "[I 2023-10-17 13:16:01,451] Trial 15 finished with value: 0.9122807017543859 and parameters: {'kernel': 'poly', 'C': 39.77655828719422, 'degree': 4}. Best is trial 12 with value: 0.9342105263157895.\n",
            "[I 2023-10-17 13:16:08,376] Trial 16 finished with value: 0.9429824561403509 and parameters: {'kernel': 'linear', 'C': 49.5572008965882}. Best is trial 16 with value: 0.9429824561403509.\n",
            "[I 2023-10-17 13:16:18,294] Trial 17 finished with value: 0.9385964912280702 and parameters: {'kernel': 'linear', 'C': 24.704121622848714}. Best is trial 16 with value: 0.9429824561403509.\n",
            "[I 2023-10-17 13:16:20,581] Trial 7 finished with value: 0.9342105263157895 and parameters: {'kernel': 'linear', 'C': 7758.04016061285}. Best is trial 16 with value: 0.9429824561403509.\n",
            "[I 2023-10-17 13:16:24,704] Trial 18 finished with value: 0.9517543859649122 and parameters: {'kernel': 'linear', 'C': 3.095559327807222}. Best is trial 18 with value: 0.9517543859649122.\n",
            "[I 2023-10-17 13:16:25,180] Trial 20 finished with value: 0.9385964912280702 and parameters: {'kernel': 'linear', 'C': 0.19536587473259456}. Best is trial 18 with value: 0.9517543859649122.\n",
            "[I 2023-10-17 13:16:25,240] Trial 21 finished with value: 0.9254385964912281 and parameters: {'kernel': 'linear', 'C': 0.0004017847921763885}. Best is trial 18 with value: 0.9517543859649122.\n",
            "[I 2023-10-17 13:16:25,961] Trial 19 finished with value: 0.9517543859649122 and parameters: {'kernel': 'linear', 'C': 2.170353785277172}. Best is trial 18 with value: 0.9517543859649122.\n",
            "[I 2023-10-17 13:16:27,939] Trial 22 finished with value: 0.9429824561403509 and parameters: {'kernel': 'linear', 'C': 10.664687737378094}. Best is trial 18 with value: 0.9517543859649122.\n",
            "[I 2023-10-17 13:16:28,939] Trial 24 finished with value: 0.9517543859649122 and parameters: {'kernel': 'linear', 'C': 1.3380097484131246}. Best is trial 18 with value: 0.9517543859649122.\n",
            "[I 2023-10-17 13:16:28,993] Trial 25 finished with value: 0.9254385964912281 and parameters: {'kernel': 'linear', 'C': 0.010713647352285626}. Best is trial 18 with value: 0.9517543859649122.\n",
            "[I 2023-10-17 13:16:29,527] Trial 26 finished with value: 0.9473684210526315 and parameters: {'kernel': 'linear', 'C': 0.830630691001355}. Best is trial 18 with value: 0.9517543859649122.\n",
            "[I 2023-10-17 13:16:29,563] Trial 27 finished with value: 0.9385964912280702 and parameters: {'kernel': 'linear', 'C': 0.0023700406602310178}. Best is trial 18 with value: 0.9517543859649122.\n",
            "[I 2023-10-17 13:16:31,308] Trial 23 finished with value: 0.9473684210526315 and parameters: {'kernel': 'linear', 'C': 2.9279815908932285}. Best is trial 18 with value: 0.9517543859649122.\n",
            "[I 2023-10-17 13:16:31,504] Trial 29 finished with value: 0.9385964912280702 and parameters: {'kernel': 'linear', 'C': 0.1648080677990549}. Best is trial 18 with value: 0.9517543859649122.\n",
            "[I 2023-10-17 13:16:31,563] Trial 30 finished with value: 0.6271929824561403 and parameters: {'kernel': 'rbf', 'C': 0.10405046299020265, 'gamma': 1.8768277115583505}. Best is trial 18 with value: 0.9517543859649122.\n",
            "[I 2023-10-17 13:16:31,572] Trial 28 finished with value: 0.9517543859649122 and parameters: {'kernel': 'linear', 'C': 2.0606797036581432}. Best is trial 18 with value: 0.9517543859649122.\n",
            "[I 2023-10-17 13:16:33,773] Trial 32 finished with value: 0.9473684210526315 and parameters: {'kernel': 'linear', 'C': 3.4571494320956537}. Best is trial 18 with value: 0.9517543859649122.\n",
            "[I 2023-10-17 13:16:34,315] Trial 33 finished with value: 0.9473684210526315 and parameters: {'kernel': 'linear', 'C': 0.6876305067702552}. Best is trial 18 with value: 0.9517543859649122.\n",
            "[I 2023-10-17 13:16:37,034] Trial 31 finished with value: 0.9473684210526315 and parameters: {'kernel': 'linear', 'C': 2.996380817482394}. Best is trial 18 with value: 0.9517543859649122.\n",
            "[I 2023-10-17 13:16:37,217] Trial 35 finished with value: 0.9342105263157895 and parameters: {'kernel': 'linear', 'C': 0.043306020780430554}. Best is trial 18 with value: 0.9517543859649122.\n",
            "[I 2023-10-17 13:16:37,364] Trial 36 finished with value: 0.9342105263157895 and parameters: {'kernel': 'linear', 'C': 0.0071072085045912675}. Best is trial 18 with value: 0.9517543859649122.\n",
            "[I 2023-10-17 13:16:37,422] Trial 37 finished with value: 0.9298245614035088 and parameters: {'kernel': 'linear', 'C': 0.000251262181338764}. Best is trial 18 with value: 0.9517543859649122.\n",
            "[I 2023-10-17 13:16:37,552] Trial 38 finished with value: 0.6271929824561403 and parameters: {'kernel': 'rbf', 'C': 0.6402550062698279, 'gamma': 1.984662288972215}. Best is trial 18 with value: 0.9517543859649122.\n",
            "[I 2023-10-17 13:16:37,878] Trial 39 finished with value: 0.9342105263157895 and parameters: {'kernel': 'linear', 'C': 0.040585749610202476}. Best is trial 18 with value: 0.9517543859649122.\n",
            "[I 2023-10-17 13:16:40,118] Trial 34 finished with value: 0.9473684210526315 and parameters: {'kernel': 'linear', 'C': 2.9860222601692863}. Best is trial 18 with value: 0.9517543859649122.\n"
          ]
        },
        {
          "name": "stdout",
          "output_type": "stream",
          "text": [
            "CPU times: user 53.8 s, sys: 39.6 ms, total: 53.8 s\n",
            "Wall time: 39.7 s\n",
            "FrozenTrial(number=18, state=TrialState.COMPLETE, values=[0.9517543859649122], datetime_start=datetime.datetime(2023, 10, 17, 13, 16, 18, 297966), datetime_complete=datetime.datetime(2023, 10, 17, 13, 16, 24, 704150), params={'kernel': 'linear', 'C': 3.095559327807222}, user_attrs={}, system_attrs={}, intermediate_values={}, distributions={'kernel': CategoricalDistribution(choices=('linear', 'poly', 'rbf')), 'C': FloatDistribution(high=10000.0, log=True, low=1e-10, step=None)}, trial_id=18, value=None)\n"
          ]
        }
      ],
      "source": [
        "%time study.optimize(objective, n_trials=N_TRIALS, n_jobs=-1) # n_jobs=-1 чтобы использовать все ядра\n",
        "print(study.best_trial)"
      ],
      "id": "05f6ec08-804c-4feb-96ea-c815f8d2483b"
    },
    {
      "cell_type": "markdown",
      "metadata": {
        "id": "3458fa0b-035d-47db-a943-70ea2e3a8938"
      },
      "source": [
        "Проверим инициализацию лучшими параметрами:"
      ],
      "id": "3458fa0b-035d-47db-a943-70ea2e3a8938"
    },
    {
      "cell_type": "code",
      "source": [
        "start = time()\n",
        "study.optimize(objective, n_trials=N_TRIALS, n_jobs=-1)\n",
        "optuna_time = time() - start\n",
        "optuna_params = study.best_params"
      ],
      "metadata": {
        "colab": {
          "base_uri": "https://localhost:8080/"
        },
        "id": "Cux8ZVPBAN40",
        "outputId": "72643d79-6a2f-4ded-c78c-d3dcf8722e6c"
      },
      "id": "Cux8ZVPBAN40",
      "execution_count": 36,
      "outputs": [
        {
          "output_type": "stream",
          "name": "stderr",
          "text": [
            "[I 2023-11-06 00:24:19,039] Trial 0 finished with value: 0.6271929824561403 and parameters: {'kernel': 'poly', 'C': 6.097663776461472e-09, 'degree': 3}. Best is trial 0 with value: 0.6271929824561403.\n",
            "[I 2023-11-06 00:24:19,065] Trial 1 finished with value: 0.6271929824561403 and parameters: {'kernel': 'rbf', 'C': 231.6316518217722, 'gamma': 1.2141767041946305}. Best is trial 0 with value: 0.6271929824561403.\n",
            "[I 2023-11-06 00:24:19,091] Trial 3 finished with value: 0.9385964912280702 and parameters: {'kernel': 'linear', 'C': 0.0017477488775533992}. Best is trial 3 with value: 0.9385964912280702.\n",
            "[I 2023-11-06 00:24:19,111] Trial 2 finished with value: 0.6271929824561403 and parameters: {'kernel': 'rbf', 'C': 764.9113251286924, 'gamma': 1.4121547202313223}. Best is trial 3 with value: 0.9385964912280702.\n",
            "[I 2023-11-06 00:24:19,137] Trial 5 finished with value: 0.6271929824561403 and parameters: {'kernel': 'linear', 'C': 1.3672280006859718e-09}. Best is trial 3 with value: 0.9385964912280702.\n",
            "[I 2023-11-06 00:24:19,144] Trial 4 finished with value: 0.6271929824561403 and parameters: {'kernel': 'rbf', 'C': 0.20931489578296797, 'gamma': 0.4300794932988605}. Best is trial 3 with value: 0.9385964912280702.\n",
            "[I 2023-11-06 00:24:19,180] Trial 6 finished with value: 0.6271929824561403 and parameters: {'kernel': 'rbf', 'C': 2.3759989297358945e-08, 'gamma': 1.411194671804867}. Best is trial 3 with value: 0.9385964912280702.\n",
            "[I 2023-11-06 00:24:19,184] Trial 7 finished with value: 0.6271929824561403 and parameters: {'kernel': 'rbf', 'C': 2.799624873596966e-06, 'gamma': 0.3206016234307205}. Best is trial 3 with value: 0.9385964912280702.\n",
            "[I 2023-11-06 00:24:19,210] Trial 8 finished with value: 0.6271929824561403 and parameters: {'kernel': 'poly', 'C': 5.8142862792254245e-09, 'degree': 5}. Best is trial 3 with value: 0.9385964912280702.\n",
            "[I 2023-11-06 00:24:19,214] Trial 9 finished with value: 0.6271929824561403 and parameters: {'kernel': 'poly', 'C': 5.494118686488073e-10, 'degree': 2}. Best is trial 3 with value: 0.9385964912280702.\n",
            "[I 2023-11-06 00:24:19,257] Trial 11 finished with value: 0.9385964912280702 and parameters: {'kernel': 'linear', 'C': 0.0016043618033962028}. Best is trial 3 with value: 0.9385964912280702.\n",
            "[I 2023-11-06 00:24:19,275] Trial 10 finished with value: 0.9385964912280702 and parameters: {'kernel': 'linear', 'C': 0.0041440323255857794}. Best is trial 3 with value: 0.9385964912280702.\n",
            "[I 2023-11-06 00:24:19,296] Trial 12 finished with value: 0.9385964912280702 and parameters: {'kernel': 'linear', 'C': 0.0009056128455418704}. Best is trial 3 with value: 0.9385964912280702.\n",
            "[I 2023-11-06 00:24:19,309] Trial 13 finished with value: 0.9385964912280702 and parameters: {'kernel': 'linear', 'C': 0.0021466336924681187}. Best is trial 3 with value: 0.9385964912280702.\n",
            "[I 2023-11-06 00:24:19,571] Trial 14 finished with value: 0.9385964912280702 and parameters: {'kernel': 'linear', 'C': 0.19310002049954564}. Best is trial 3 with value: 0.9385964912280702.\n",
            "[I 2023-11-06 00:24:19,599] Trial 16 finished with value: 0.9122807017543859 and parameters: {'kernel': 'linear', 'C': 6.470464663454887e-06}. Best is trial 3 with value: 0.9385964912280702.\n",
            "[I 2023-11-06 00:24:19,919] Trial 15 finished with value: 0.9473684210526315 and parameters: {'kernel': 'linear', 'C': 1.0357121240541036}. Best is trial 15 with value: 0.9473684210526315.\n",
            "[I 2023-11-06 00:24:23,170] Trial 17 finished with value: 0.9473684210526315 and parameters: {'kernel': 'linear', 'C': 4.988481575943343}. Best is trial 15 with value: 0.9473684210526315.\n",
            "[I 2023-11-06 00:24:26,254] Trial 18 finished with value: 0.9385964912280702 and parameters: {'kernel': 'linear', 'C': 16.317256534112197}. Best is trial 15 with value: 0.9473684210526315.\n",
            "[I 2023-11-06 00:24:29,852] Trial 19 finished with value: 0.9473684210526315 and parameters: {'kernel': 'linear', 'C': 9.265210963737744}. Best is trial 15 with value: 0.9473684210526315.\n",
            "[I 2023-11-06 00:24:29,948] Trial 21 finished with value: 0.6271929824561403 and parameters: {'kernel': 'poly', 'C': 6539.535947952608, 'degree': 0}. Best is trial 15 with value: 0.9473684210526315.\n",
            "[I 2023-11-06 00:24:37,485] Trial 22 finished with value: 0.9385964912280702 and parameters: {'kernel': 'linear', 'C': 26.426814389898325}. Best is trial 15 with value: 0.9473684210526315.\n",
            "[I 2023-11-06 00:24:39,220] Trial 20 finished with value: 0.9342105263157895 and parameters: {'kernel': 'linear', 'C': 4594.861065949626}. Best is trial 15 with value: 0.9473684210526315.\n",
            "[I 2023-11-06 00:24:39,950] Trial 23 finished with value: 0.9473684210526315 and parameters: {'kernel': 'linear', 'C': 2.7159069499954573}. Best is trial 15 with value: 0.9473684210526315.\n",
            "[I 2023-11-06 00:24:40,758] Trial 25 finished with value: 0.9517543859649122 and parameters: {'kernel': 'linear', 'C': 1.2991743513633927}. Best is trial 25 with value: 0.9517543859649122.\n",
            "[I 2023-11-06 00:24:41,514] Trial 26 finished with value: 0.9473684210526315 and parameters: {'kernel': 'linear', 'C': 0.7117008677498404}. Best is trial 25 with value: 0.9517543859649122.\n",
            "[I 2023-11-06 00:24:43,652] Trial 24 finished with value: 0.9517543859649122 and parameters: {'kernel': 'linear', 'C': 2.2943462398219645}. Best is trial 25 with value: 0.9517543859649122.\n",
            "[I 2023-11-06 00:24:50,248] Trial 28 finished with value: 0.9342105263157895 and parameters: {'kernel': 'linear', 'C': 172.69923699090234}. Best is trial 25 with value: 0.9517543859649122.\n",
            "[I 2023-11-06 00:24:50,284] Trial 29 finished with value: 0.8903508771929824 and parameters: {'kernel': 'poly', 'C': 0.03468989231322103, 'degree': 5}. Best is trial 25 with value: 0.9517543859649122.\n",
            "[I 2023-11-06 00:24:50,459] Trial 30 finished with value: 0.9342105263157895 and parameters: {'kernel': 'linear', 'C': 0.03960781332599031}. Best is trial 25 with value: 0.9517543859649122.\n",
            "[I 2023-11-06 00:24:50,502] Trial 31 finished with value: 0.6271929824561403 and parameters: {'kernel': 'poly', 'C': 57.94111162501668, 'degree': 0}. Best is trial 25 with value: 0.9517543859649122.\n",
            "[I 2023-11-06 00:24:52,928] Trial 32 finished with value: 0.9473684210526315 and parameters: {'kernel': 'linear', 'C': 3.9473544185453435}. Best is trial 25 with value: 0.9517543859649122.\n",
            "[I 2023-11-06 00:24:53,481] Trial 33 finished with value: 0.9473684210526315 and parameters: {'kernel': 'linear', 'C': 1.0000927467704752}. Best is trial 25 with value: 0.9517543859649122.\n",
            "[I 2023-11-06 00:24:54,202] Trial 27 finished with value: 0.9385964912280702 and parameters: {'kernel': 'linear', 'C': 120.71365292906013}. Best is trial 25 with value: 0.9517543859649122.\n",
            "[I 2023-11-06 00:25:05,531] Trial 35 finished with value: 0.9342105263157895 and parameters: {'kernel': 'linear', 'C': 556.1039168113803}. Best is trial 25 with value: 0.9517543859649122.\n",
            "[I 2023-11-06 00:25:05,595] Trial 36 finished with value: 0.6271929824561403 and parameters: {'kernel': 'rbf', 'C': 5.893380405873678, 'gamma': 1.9930632071811394}. Best is trial 25 with value: 0.9517543859649122.\n",
            "[I 2023-11-06 00:25:05,777] Trial 34 finished with value: 0.9342105263157895 and parameters: {'kernel': 'linear', 'C': 183.19923317369395}. Best is trial 25 with value: 0.9517543859649122.\n",
            "[I 2023-11-06 00:25:05,839] Trial 38 finished with value: 0.6271929824561403 and parameters: {'kernel': 'rbf', 'C': 32.5735453275144, 'gamma': 0.03621610865692482}. Best is trial 25 with value: 0.9517543859649122.\n",
            "[I 2023-11-06 00:25:06,414] Trial 39 finished with value: 0.9473684210526315 and parameters: {'kernel': 'linear', 'C': 1.0248938097103992}. Best is trial 25 with value: 0.9517543859649122.\n",
            "[I 2023-11-06 00:25:07,985] Trial 37 finished with value: 0.9517543859649122 and parameters: {'kernel': 'linear', 'C': 43.849446045259725}. Best is trial 25 with value: 0.9517543859649122.\n"
          ]
        }
      ]
    },
    {
      "cell_type": "code",
      "execution_count": 37,
      "metadata": {
        "colab": {
          "base_uri": "https://localhost:8080/",
          "height": 93
        },
        "id": "55929567-2daa-4a7b-9914-68801ed5f099",
        "outputId": "20be1776-a500-4042-a586-01de7f200679"
      },
      "outputs": [
        {
          "output_type": "display_data",
          "data": {
            "text/plain": [
              "SVC(C=1.2991743513633927, kernel='linear')"
            ],
            "text/html": [
              "<style>#sk-container-id-2 {color: black;background-color: white;}#sk-container-id-2 pre{padding: 0;}#sk-container-id-2 div.sk-toggleable {background-color: white;}#sk-container-id-2 label.sk-toggleable__label {cursor: pointer;display: block;width: 100%;margin-bottom: 0;padding: 0.3em;box-sizing: border-box;text-align: center;}#sk-container-id-2 label.sk-toggleable__label-arrow:before {content: \"▸\";float: left;margin-right: 0.25em;color: #696969;}#sk-container-id-2 label.sk-toggleable__label-arrow:hover:before {color: black;}#sk-container-id-2 div.sk-estimator:hover label.sk-toggleable__label-arrow:before {color: black;}#sk-container-id-2 div.sk-toggleable__content {max-height: 0;max-width: 0;overflow: hidden;text-align: left;background-color: #f0f8ff;}#sk-container-id-2 div.sk-toggleable__content pre {margin: 0.2em;color: black;border-radius: 0.25em;background-color: #f0f8ff;}#sk-container-id-2 input.sk-toggleable__control:checked~div.sk-toggleable__content {max-height: 200px;max-width: 100%;overflow: auto;}#sk-container-id-2 input.sk-toggleable__control:checked~label.sk-toggleable__label-arrow:before {content: \"▾\";}#sk-container-id-2 div.sk-estimator input.sk-toggleable__control:checked~label.sk-toggleable__label {background-color: #d4ebff;}#sk-container-id-2 div.sk-label input.sk-toggleable__control:checked~label.sk-toggleable__label {background-color: #d4ebff;}#sk-container-id-2 input.sk-hidden--visually {border: 0;clip: rect(1px 1px 1px 1px);clip: rect(1px, 1px, 1px, 1px);height: 1px;margin: -1px;overflow: hidden;padding: 0;position: absolute;width: 1px;}#sk-container-id-2 div.sk-estimator {font-family: monospace;background-color: #f0f8ff;border: 1px dotted black;border-radius: 0.25em;box-sizing: border-box;margin-bottom: 0.5em;}#sk-container-id-2 div.sk-estimator:hover {background-color: #d4ebff;}#sk-container-id-2 div.sk-parallel-item::after {content: \"\";width: 100%;border-bottom: 1px solid gray;flex-grow: 1;}#sk-container-id-2 div.sk-label:hover label.sk-toggleable__label {background-color: #d4ebff;}#sk-container-id-2 div.sk-serial::before {content: \"\";position: absolute;border-left: 1px solid gray;box-sizing: border-box;top: 0;bottom: 0;left: 50%;z-index: 0;}#sk-container-id-2 div.sk-serial {display: flex;flex-direction: column;align-items: center;background-color: white;padding-right: 0.2em;padding-left: 0.2em;position: relative;}#sk-container-id-2 div.sk-item {position: relative;z-index: 1;}#sk-container-id-2 div.sk-parallel {display: flex;align-items: stretch;justify-content: center;background-color: white;position: relative;}#sk-container-id-2 div.sk-item::before, #sk-container-id-2 div.sk-parallel-item::before {content: \"\";position: absolute;border-left: 1px solid gray;box-sizing: border-box;top: 0;bottom: 0;left: 50%;z-index: -1;}#sk-container-id-2 div.sk-parallel-item {display: flex;flex-direction: column;z-index: 1;position: relative;background-color: white;}#sk-container-id-2 div.sk-parallel-item:first-child::after {align-self: flex-end;width: 50%;}#sk-container-id-2 div.sk-parallel-item:last-child::after {align-self: flex-start;width: 50%;}#sk-container-id-2 div.sk-parallel-item:only-child::after {width: 0;}#sk-container-id-2 div.sk-dashed-wrapped {border: 1px dashed gray;margin: 0 0.4em 0.5em 0.4em;box-sizing: border-box;padding-bottom: 0.4em;background-color: white;}#sk-container-id-2 div.sk-label label {font-family: monospace;font-weight: bold;display: inline-block;line-height: 1.2em;}#sk-container-id-2 div.sk-label-container {text-align: center;}#sk-container-id-2 div.sk-container {/* jupyter's `normalize.less` sets `[hidden] { display: none; }` but bootstrap.min.css set `[hidden] { display: none !important; }` so we also need the `!important` here to be able to override the default hidden behavior on the sphinx rendered scikit-learn.org. See: https://github.com/scikit-learn/scikit-learn/issues/21755 */display: inline-block !important;position: relative;}#sk-container-id-2 div.sk-text-repr-fallback {display: none;}</style><div id=\"sk-container-id-2\" class=\"sk-top-container\"><div class=\"sk-text-repr-fallback\"><pre>SVC(C=1.2991743513633927, kernel=&#x27;linear&#x27;)</pre><b>In a Jupyter environment, please rerun this cell to show the HTML representation or trust the notebook. <br />On GitHub, the HTML representation is unable to render, please try loading this page with nbviewer.org.</b></div><div class=\"sk-container\" hidden><div class=\"sk-item\"><div class=\"sk-estimator sk-toggleable\"><input class=\"sk-toggleable__control sk-hidden--visually\" id=\"sk-estimator-id-2\" type=\"checkbox\" checked><label for=\"sk-estimator-id-2\" class=\"sk-toggleable__label sk-toggleable__label-arrow\">SVC</label><div class=\"sk-toggleable__content\"><pre>SVC(C=1.2991743513633927, kernel=&#x27;linear&#x27;)</pre></div></div></div></div></div>"
            ]
          },
          "metadata": {}
        },
        {
          "output_type": "stream",
          "name": "stdout",
          "text": [
            "Accuracy: 0.952\n"
          ]
        }
      ],
      "source": [
        "model = SVC(**study.best_params)\n",
        "model.fit(X_train, Y_train)\n",
        "display(model)\n",
        "optuna_accuracy = (model.predict(X_test) == Y_test).mean()\n",
        "print(f'Accuracy: {optuna_accuracy:.3f}')"
      ],
      "id": "55929567-2daa-4a7b-9914-68801ed5f099"
    },
    {
      "cell_type": "markdown",
      "metadata": {
        "id": "c1f00a58-c667-45de-93ae-3f2aa8b28a71"
      },
      "source": [
        "Видим, что времени на поиск затрачено меньше (`Wall time`), а результирующая точность (`Accuracy`) - выше."
      ],
      "id": "c1f00a58-c667-45de-93ae-3f2aa8b28a71"
    },
    {
      "cell_type": "markdown",
      "metadata": {
        "id": "BsBEhxMpsfQ3"
      },
      "source": [
        "#Scikit-optimize (skopt)\n",
        "\n",
        "Scikit-optimize (часто называемая `skopt`) - это библиотека для оптимизации гиперпараметров на языке Python. Она построена на основе библиотеки `scikit-learn` и предназначена для взаимодействия с API `scikit-learn`, что делает ее популярным выбором для настройки гиперпараметров моделей `scikit-learn`."
      ],
      "id": "BsBEhxMpsfQ3"
    },
    {
      "cell_type": "code",
      "execution_count": 38,
      "metadata": {
        "id": "W4qn3Gmztxsr",
        "colab": {
          "base_uri": "https://localhost:8080/"
        },
        "outputId": "0ad97449-c228-415d-d88a-5f3f48cf93f4"
      },
      "outputs": [
        {
          "output_type": "stream",
          "name": "stdout",
          "text": [
            "Collecting scikit-optimize\n",
            "  Downloading scikit_optimize-0.9.0-py2.py3-none-any.whl (100 kB)\n",
            "\u001b[?25l     \u001b[90m━━━━━━━━━━━━━━━━━━━━━━━━━━━━━━━━━━━━━━━━\u001b[0m \u001b[32m0.0/100.3 kB\u001b[0m \u001b[31m?\u001b[0m eta \u001b[36m-:--:--\u001b[0m\r\u001b[2K     \u001b[91m━━━━━━━━━━━━━━━━━━━━━━━━━━━━━━━━━━━━\u001b[0m\u001b[91m╸\u001b[0m\u001b[90m━━━\u001b[0m \u001b[32m92.2/100.3 kB\u001b[0m \u001b[31m2.7 MB/s\u001b[0m eta \u001b[36m0:00:01\u001b[0m\r\u001b[2K     \u001b[90m━━━━━━━━━━━━━━━━━━━━━━━━━━━━━━━━━━━━━━━━\u001b[0m \u001b[32m100.3/100.3 kB\u001b[0m \u001b[31m2.3 MB/s\u001b[0m eta \u001b[36m0:00:00\u001b[0m\n",
            "\u001b[?25hRequirement already satisfied: joblib>=0.11 in /usr/local/lib/python3.10/dist-packages (from scikit-optimize) (1.3.2)\n",
            "Collecting pyaml>=16.9 (from scikit-optimize)\n",
            "  Downloading pyaml-23.9.7-py3-none-any.whl (23 kB)\n",
            "Requirement already satisfied: numpy>=1.13.3 in /usr/local/lib/python3.10/dist-packages (from scikit-optimize) (1.23.5)\n",
            "Requirement already satisfied: scipy>=0.19.1 in /usr/local/lib/python3.10/dist-packages (from scikit-optimize) (1.11.3)\n",
            "Requirement already satisfied: scikit-learn>=0.20.0 in /usr/local/lib/python3.10/dist-packages (from scikit-optimize) (1.2.2)\n",
            "Requirement already satisfied: PyYAML in /usr/local/lib/python3.10/dist-packages (from pyaml>=16.9->scikit-optimize) (6.0.1)\n",
            "Requirement already satisfied: threadpoolctl>=2.0.0 in /usr/local/lib/python3.10/dist-packages (from scikit-learn>=0.20.0->scikit-optimize) (3.2.0)\n",
            "Installing collected packages: pyaml, scikit-optimize\n",
            "Successfully installed pyaml-23.9.7 scikit-optimize-0.9.0\n"
          ]
        }
      ],
      "source": [
        "!pip install scikit-optimize"
      ],
      "id": "W4qn3Gmztxsr"
    },
    {
      "cell_type": "markdown",
      "metadata": {
        "id": "nd8FCFMixaIy"
      },
      "source": [
        "##BayesSearchCV\n",
        "\n",
        "`BayesSearchCV` - это реализация байесовской оптимизации гиперпараметров. Вместо полного перебора гиперпараметров, как в GridSearch, или случайного, как в RandomSearch, байесовская оптимизация строит вероятностную модель целевой функции и использует ее для выбора наиболее оптимальных гиперпараметров для оценки в настоящей целевой функции.\n",
        "\n",
        "Ниже приводится описание шагов:\n",
        "\n",
        "1. **Определение пространства поиска гиперпараметров**: Мы определяем диапазон и тип (например, вещественный, целочисленный, категориальный) каждого гиперпараметра, который мы хотим оптимизировать.\n",
        "2. **Инициализация `BayesSearchCV`**: Мы создаем экземпляр `BayesSearchCV`, указывая:\n",
        "   - `estimator`: Модель, которую мы хотим оптимизировать.\n",
        "   - `search_spaces`: Определенное нами пространство поиска гиперпараметров.\n",
        "   - `n_iter`: Количество итераций для поиска.\n",
        "   - `cv`: Стратегия кросс-валидации. Здесь мы используем предопределенные индексы train/test.\n",
        "   - `n_jobs`: Количество параллельно выполняемых заданий. `-1` означает использование всех доступных процессоров.\n",
        "   - `random_state`: Начальное состояние для воспроизводимости.\n",
        "3. **Обучение и поиск**: Вызов `fit` приводит к тому, что `BayesSearchCV` ищет наилучшие гиперпараметры с помощью байесовской оптимизации. После обучения наилучшие гиперпараметры могут быть получены с помощью атрибута `best_params_`."
      ],
      "id": "nd8FCFMixaIy"
    },
    {
      "cell_type": "code",
      "execution_count": 39,
      "metadata": {
        "id": "aaba3f99-ad67-44e8-8047-1262bcefb368"
      },
      "outputs": [],
      "source": [
        "from skopt import BayesSearchCV\n",
        "from skopt.space import Real, Categorical, Integer\n",
        "\n",
        "\n",
        "search_space = {\n",
        "    'C': Real(1e-10, 1e4, prior='log-uniform'),\n",
        "    'kernel': Categorical(['linear', 'poly', 'rbf']),\n",
        "    'degree': Integer(0, 5),\n",
        "    'gamma': Real(0, 2)\n",
        "}\n",
        "\n",
        "bayes_search = BayesSearchCV(\n",
        "    estimator = model,\n",
        "    search_spaces = search_space,\n",
        "    n_iter=N_TRIALS,\n",
        "    cv=[[ind_train, ind_test]],\n",
        "    n_jobs=-1,\n",
        "    verbose=10,\n",
        "    random_state=0\n",
        ")"
      ],
      "id": "aaba3f99-ad67-44e8-8047-1262bcefb368"
    },
    {
      "cell_type": "code",
      "execution_count": null,
      "metadata": {
        "colab": {
          "base_uri": "https://localhost:8080/"
        },
        "id": "xbhRYv57sv_A",
        "outputId": "ca9fe816-9747-4712-d318-780fe4f1eb9d"
      },
      "outputs": [
        {
          "name": "stdout",
          "output_type": "stream",
          "text": [
            "Fitting 1 folds for each of 1 candidates, totalling 1 fits\n",
            "Fitting 1 folds for each of 1 candidates, totalling 1 fits\n",
            "Fitting 1 folds for each of 1 candidates, totalling 1 fits\n",
            "Fitting 1 folds for each of 1 candidates, totalling 1 fits\n",
            "Fitting 1 folds for each of 1 candidates, totalling 1 fits\n",
            "Fitting 1 folds for each of 1 candidates, totalling 1 fits\n",
            "Fitting 1 folds for each of 1 candidates, totalling 1 fits\n",
            "Fitting 1 folds for each of 1 candidates, totalling 1 fits\n",
            "Fitting 1 folds for each of 1 candidates, totalling 1 fits\n",
            "Fitting 1 folds for each of 1 candidates, totalling 1 fits\n",
            "Fitting 1 folds for each of 1 candidates, totalling 1 fits\n",
            "Fitting 1 folds for each of 1 candidates, totalling 1 fits\n",
            "Fitting 1 folds for each of 1 candidates, totalling 1 fits\n",
            "Fitting 1 folds for each of 1 candidates, totalling 1 fits\n",
            "Fitting 1 folds for each of 1 candidates, totalling 1 fits\n",
            "Fitting 1 folds for each of 1 candidates, totalling 1 fits\n",
            "Fitting 1 folds for each of 1 candidates, totalling 1 fits\n",
            "Fitting 1 folds for each of 1 candidates, totalling 1 fits\n",
            "Fitting 1 folds for each of 1 candidates, totalling 1 fits\n",
            "Fitting 1 folds for each of 1 candidates, totalling 1 fits\n",
            "Fitting 1 folds for each of 1 candidates, totalling 1 fits\n",
            "Fitting 1 folds for each of 1 candidates, totalling 1 fits\n",
            "Fitting 1 folds for each of 1 candidates, totalling 1 fits\n",
            "Fitting 1 folds for each of 1 candidates, totalling 1 fits\n",
            "Fitting 1 folds for each of 1 candidates, totalling 1 fits\n",
            "Fitting 1 folds for each of 1 candidates, totalling 1 fits\n",
            "Fitting 1 folds for each of 1 candidates, totalling 1 fits\n",
            "Fitting 1 folds for each of 1 candidates, totalling 1 fits\n",
            "Fitting 1 folds for each of 1 candidates, totalling 1 fits\n",
            "Fitting 1 folds for each of 1 candidates, totalling 1 fits\n",
            "Fitting 1 folds for each of 1 candidates, totalling 1 fits\n",
            "Fitting 1 folds for each of 1 candidates, totalling 1 fits\n",
            "Fitting 1 folds for each of 1 candidates, totalling 1 fits\n",
            "Fitting 1 folds for each of 1 candidates, totalling 1 fits\n",
            "Fitting 1 folds for each of 1 candidates, totalling 1 fits\n",
            "Fitting 1 folds for each of 1 candidates, totalling 1 fits\n",
            "Fitting 1 folds for each of 1 candidates, totalling 1 fits\n",
            "Fitting 1 folds for each of 1 candidates, totalling 1 fits\n",
            "Fitting 1 folds for each of 1 candidates, totalling 1 fits\n",
            "Fitting 1 folds for each of 1 candidates, totalling 1 fits\n",
            "CPU times: user 1min 20s, sys: 41.4 s, total: 2min 2s\n",
            "Wall time: 5min 20s\n"
          ]
        },
        {
          "data": {
            "text/plain": [
              "(0.956140350877193,\n",
              " OrderedDict([('C', 7.10881567460541e-08),\n",
              "              ('degree', 2),\n",
              "              ('gamma', 1.5664409648278272),\n",
              "              ('kernel', 'poly')]))"
            ]
          },
          "execution_count": 32,
          "metadata": {},
          "output_type": "execute_result"
        }
      ],
      "source": [
        "%time  search = bayes_search.fit(X.to_numpy(), Y.to_numpy())\n",
        "search.best_score_, search.best_params_"
      ],
      "id": "xbhRYv57sv_A"
    },
    {
      "cell_type": "code",
      "source": [
        "start = time()\n",
        "search = bayes_search.fit(X.to_numpy(), Y.to_numpy())\n",
        "bayes_search_time = time() - start\n",
        "bayes_search_params = search.best_params_"
      ],
      "metadata": {
        "colab": {
          "base_uri": "https://localhost:8080/"
        },
        "id": "DwU4yQj7BaCs",
        "outputId": "cd9def07-8e98-4b2a-bafb-e65a5de120ad"
      },
      "id": "DwU4yQj7BaCs",
      "execution_count": 40,
      "outputs": [
        {
          "output_type": "stream",
          "name": "stdout",
          "text": [
            "Fitting 1 folds for each of 1 candidates, totalling 1 fits\n",
            "Fitting 1 folds for each of 1 candidates, totalling 1 fits\n",
            "Fitting 1 folds for each of 1 candidates, totalling 1 fits\n",
            "Fitting 1 folds for each of 1 candidates, totalling 1 fits\n",
            "Fitting 1 folds for each of 1 candidates, totalling 1 fits\n",
            "Fitting 1 folds for each of 1 candidates, totalling 1 fits\n",
            "Fitting 1 folds for each of 1 candidates, totalling 1 fits\n",
            "Fitting 1 folds for each of 1 candidates, totalling 1 fits\n",
            "Fitting 1 folds for each of 1 candidates, totalling 1 fits\n",
            "Fitting 1 folds for each of 1 candidates, totalling 1 fits\n",
            "Fitting 1 folds for each of 1 candidates, totalling 1 fits\n",
            "Fitting 1 folds for each of 1 candidates, totalling 1 fits\n",
            "Fitting 1 folds for each of 1 candidates, totalling 1 fits\n",
            "Fitting 1 folds for each of 1 candidates, totalling 1 fits\n",
            "Fitting 1 folds for each of 1 candidates, totalling 1 fits\n",
            "Fitting 1 folds for each of 1 candidates, totalling 1 fits\n",
            "Fitting 1 folds for each of 1 candidates, totalling 1 fits\n",
            "Fitting 1 folds for each of 1 candidates, totalling 1 fits\n",
            "Fitting 1 folds for each of 1 candidates, totalling 1 fits\n",
            "Fitting 1 folds for each of 1 candidates, totalling 1 fits\n",
            "Fitting 1 folds for each of 1 candidates, totalling 1 fits\n",
            "Fitting 1 folds for each of 1 candidates, totalling 1 fits\n",
            "Fitting 1 folds for each of 1 candidates, totalling 1 fits\n",
            "Fitting 1 folds for each of 1 candidates, totalling 1 fits\n",
            "Fitting 1 folds for each of 1 candidates, totalling 1 fits\n",
            "Fitting 1 folds for each of 1 candidates, totalling 1 fits\n",
            "Fitting 1 folds for each of 1 candidates, totalling 1 fits\n",
            "Fitting 1 folds for each of 1 candidates, totalling 1 fits\n",
            "Fitting 1 folds for each of 1 candidates, totalling 1 fits\n",
            "Fitting 1 folds for each of 1 candidates, totalling 1 fits\n",
            "Fitting 1 folds for each of 1 candidates, totalling 1 fits\n",
            "Fitting 1 folds for each of 1 candidates, totalling 1 fits\n",
            "Fitting 1 folds for each of 1 candidates, totalling 1 fits\n",
            "Fitting 1 folds for each of 1 candidates, totalling 1 fits\n",
            "Fitting 1 folds for each of 1 candidates, totalling 1 fits\n",
            "Fitting 1 folds for each of 1 candidates, totalling 1 fits\n",
            "Fitting 1 folds for each of 1 candidates, totalling 1 fits\n",
            "Fitting 1 folds for each of 1 candidates, totalling 1 fits\n",
            "Fitting 1 folds for each of 1 candidates, totalling 1 fits\n",
            "Fitting 1 folds for each of 1 candidates, totalling 1 fits\n"
          ]
        }
      ]
    },
    {
      "cell_type": "code",
      "execution_count": 41,
      "metadata": {
        "colab": {
          "base_uri": "https://localhost:8080/",
          "height": 93
        },
        "id": "VjvSAM4ptFZy",
        "outputId": "2f10f63d-ee05-48d2-cdb3-536d54c3aa4e"
      },
      "outputs": [
        {
          "output_type": "display_data",
          "data": {
            "text/plain": [
              "SVC(C=7.10881567460541e-08, degree=2, gamma=1.5664409648278272, kernel='poly')"
            ],
            "text/html": [
              "<style>#sk-container-id-3 {color: black;background-color: white;}#sk-container-id-3 pre{padding: 0;}#sk-container-id-3 div.sk-toggleable {background-color: white;}#sk-container-id-3 label.sk-toggleable__label {cursor: pointer;display: block;width: 100%;margin-bottom: 0;padding: 0.3em;box-sizing: border-box;text-align: center;}#sk-container-id-3 label.sk-toggleable__label-arrow:before {content: \"▸\";float: left;margin-right: 0.25em;color: #696969;}#sk-container-id-3 label.sk-toggleable__label-arrow:hover:before {color: black;}#sk-container-id-3 div.sk-estimator:hover label.sk-toggleable__label-arrow:before {color: black;}#sk-container-id-3 div.sk-toggleable__content {max-height: 0;max-width: 0;overflow: hidden;text-align: left;background-color: #f0f8ff;}#sk-container-id-3 div.sk-toggleable__content pre {margin: 0.2em;color: black;border-radius: 0.25em;background-color: #f0f8ff;}#sk-container-id-3 input.sk-toggleable__control:checked~div.sk-toggleable__content {max-height: 200px;max-width: 100%;overflow: auto;}#sk-container-id-3 input.sk-toggleable__control:checked~label.sk-toggleable__label-arrow:before {content: \"▾\";}#sk-container-id-3 div.sk-estimator input.sk-toggleable__control:checked~label.sk-toggleable__label {background-color: #d4ebff;}#sk-container-id-3 div.sk-label input.sk-toggleable__control:checked~label.sk-toggleable__label {background-color: #d4ebff;}#sk-container-id-3 input.sk-hidden--visually {border: 0;clip: rect(1px 1px 1px 1px);clip: rect(1px, 1px, 1px, 1px);height: 1px;margin: -1px;overflow: hidden;padding: 0;position: absolute;width: 1px;}#sk-container-id-3 div.sk-estimator {font-family: monospace;background-color: #f0f8ff;border: 1px dotted black;border-radius: 0.25em;box-sizing: border-box;margin-bottom: 0.5em;}#sk-container-id-3 div.sk-estimator:hover {background-color: #d4ebff;}#sk-container-id-3 div.sk-parallel-item::after {content: \"\";width: 100%;border-bottom: 1px solid gray;flex-grow: 1;}#sk-container-id-3 div.sk-label:hover label.sk-toggleable__label {background-color: #d4ebff;}#sk-container-id-3 div.sk-serial::before {content: \"\";position: absolute;border-left: 1px solid gray;box-sizing: border-box;top: 0;bottom: 0;left: 50%;z-index: 0;}#sk-container-id-3 div.sk-serial {display: flex;flex-direction: column;align-items: center;background-color: white;padding-right: 0.2em;padding-left: 0.2em;position: relative;}#sk-container-id-3 div.sk-item {position: relative;z-index: 1;}#sk-container-id-3 div.sk-parallel {display: flex;align-items: stretch;justify-content: center;background-color: white;position: relative;}#sk-container-id-3 div.sk-item::before, #sk-container-id-3 div.sk-parallel-item::before {content: \"\";position: absolute;border-left: 1px solid gray;box-sizing: border-box;top: 0;bottom: 0;left: 50%;z-index: -1;}#sk-container-id-3 div.sk-parallel-item {display: flex;flex-direction: column;z-index: 1;position: relative;background-color: white;}#sk-container-id-3 div.sk-parallel-item:first-child::after {align-self: flex-end;width: 50%;}#sk-container-id-3 div.sk-parallel-item:last-child::after {align-self: flex-start;width: 50%;}#sk-container-id-3 div.sk-parallel-item:only-child::after {width: 0;}#sk-container-id-3 div.sk-dashed-wrapped {border: 1px dashed gray;margin: 0 0.4em 0.5em 0.4em;box-sizing: border-box;padding-bottom: 0.4em;background-color: white;}#sk-container-id-3 div.sk-label label {font-family: monospace;font-weight: bold;display: inline-block;line-height: 1.2em;}#sk-container-id-3 div.sk-label-container {text-align: center;}#sk-container-id-3 div.sk-container {/* jupyter's `normalize.less` sets `[hidden] { display: none; }` but bootstrap.min.css set `[hidden] { display: none !important; }` so we also need the `!important` here to be able to override the default hidden behavior on the sphinx rendered scikit-learn.org. See: https://github.com/scikit-learn/scikit-learn/issues/21755 */display: inline-block !important;position: relative;}#sk-container-id-3 div.sk-text-repr-fallback {display: none;}</style><div id=\"sk-container-id-3\" class=\"sk-top-container\"><div class=\"sk-text-repr-fallback\"><pre>SVC(C=7.10881567460541e-08, degree=2, gamma=1.5664409648278272, kernel=&#x27;poly&#x27;)</pre><b>In a Jupyter environment, please rerun this cell to show the HTML representation or trust the notebook. <br />On GitHub, the HTML representation is unable to render, please try loading this page with nbviewer.org.</b></div><div class=\"sk-container\" hidden><div class=\"sk-item\"><div class=\"sk-estimator sk-toggleable\"><input class=\"sk-toggleable__control sk-hidden--visually\" id=\"sk-estimator-id-3\" type=\"checkbox\" checked><label for=\"sk-estimator-id-3\" class=\"sk-toggleable__label sk-toggleable__label-arrow\">SVC</label><div class=\"sk-toggleable__content\"><pre>SVC(C=7.10881567460541e-08, degree=2, gamma=1.5664409648278272, kernel=&#x27;poly&#x27;)</pre></div></div></div></div></div>"
            ]
          },
          "metadata": {}
        },
        {
          "output_type": "stream",
          "name": "stdout",
          "text": [
            "Accuracy: 0.956\n"
          ]
        }
      ],
      "source": [
        "model = SVC(**search.best_params_)\n",
        "model.fit(X_train, Y_train)\n",
        "display(model)\n",
        "\n",
        "bayes_search_accuracy = (model.predict(X_test) == Y_test).mean()\n",
        "print(f'Accuracy: {bayes_search_accuracy:.3f}')"
      ],
      "id": "VjvSAM4ptFZy"
    },
    {
      "cell_type": "code",
      "execution_count": 54,
      "metadata": {
        "id": "_YdwJHOFYwk9",
        "colab": {
          "base_uri": "https://localhost:8080/",
          "height": 479
        },
        "outputId": "3e8f7faf-e535-4784-ec34-336fc04c43ea"
      },
      "outputs": [
        {
          "output_type": "display_data",
          "data": {
            "text/plain": [
              "<Figure size 640x480 with 1 Axes>"
            ],
            "image/png": "[encoded data removed]"
          },
          "metadata": {}
        }
      ],
      "source": [
        "labels = ['RandomizedSearchCV', 'Optuna', 'BayesSearchCV']\n",
        "times = [random_search_time, optuna_time, bayes_search_time]\n",
        "\n",
        "x = np.arange(len(labels))\n",
        "width = 0.35\n",
        "\n",
        "fig, ax = plt.subplots()\n",
        "bars = ax.bar(x, times, width, label='Time (s)', color='blue')\n",
        "ax.set_ylabel('Time (s)')\n",
        "ax.set_title('Time Comparison of Optimization Methods')\n",
        "ax.set_xticks(x)\n",
        "ax.set_xticklabels(labels)\n",
        "\n",
        "for bar in bars:\n",
        "    yval = bar.get_height()\n",
        "    ax.text(bar.get_x() + bar.get_width()/2.0, yval, f'{yval:.3f}', va='bottom', ha='center')\n",
        "\n",
        "# Place a legend below this subplot\n",
        "ax.legend(loc='upper center', bbox_to_anchor=(0.5, -0.05), shadow=True, ncol=2)\n",
        "\n",
        "plt.show()\n"
      ],
      "id": "_YdwJHOFYwk9"
    },
    {
      "cell_type": "code",
      "source": [
        "import matplotlib.pyplot as plt\n",
        "import numpy as np\n",
        "\n",
        "# Labels for the different optimization methods\n",
        "labels = ['RandomizedSearchCV', 'Optuna', 'BayesSearchCV']\n",
        "\n",
        "# Example time and accuracy data for the three methods\n",
        "accuracies = [random_search_accuracy, optuna_accuracy, bayes_search_accuracy]\n",
        "\n",
        "x = np.arange(len(labels))\n",
        "width = 0.35\n",
        "\n",
        "fig, ax = plt.subplots()\n",
        "bars = ax.bar(x, accuracies, width, label='Accuracy', color='orange')\n",
        "\n",
        "ax.set_ylabel('Accuracy')\n",
        "ax.set_title('Accuracy Comparison of Optimization Methods')\n",
        "ax.set_xticks(x)\n",
        "ax.set_xticklabels(labels)\n",
        "\n",
        "# Adding the text on top of each bar\n",
        "for bar in bars:\n",
        "    yval = bar.get_height()\n",
        "    ax.text(bar.get_x() + bar.get_width()/2.0, yval, f'{yval:.3f}', va='bottom', ha='center')\n",
        "\n",
        "# Place a legend below this subplot\n",
        "ax.legend(loc='upper center', bbox_to_anchor=(0.5, -0.05), shadow=True, ncol=2)\n",
        "\n",
        "plt.show()\n",
        "\n"
      ],
      "metadata": {
        "colab": {
          "base_uri": "https://localhost:8080/",
          "height": 479
        },
        "id": "ouWS43DHEZWf",
        "outputId": "97c43b1a-ff12-41dc-8155-f411e4c0875b"
      },
      "id": "ouWS43DHEZWf",
      "execution_count": 51,
      "outputs": [
        {
          "output_type": "display_data",
          "data": {
            "text/plain": [
              "<Figure size 640x480 with 1 Axes>"
            ],
            "image/png": "[encoded data removed]"
          },
          "metadata": {}
        }
      ]
    },
    {
      "cell_type": "code",
      "source": [
        "print(f\"Best parameters for RandomizedSearchCV: {random_search_params}\")\n",
        "print(f\"Best parameters for Optuna: {optuna_params}\")\n",
        "print(f\"Best parameters for BayesSearchCV: {bayes_search_params}\")"
      ],
      "metadata": {
        "colab": {
          "base_uri": "https://localhost:8080/"
        },
        "id": "9phwx_boGEsu",
        "outputId": "9aec6e04-5f55-4b80-ed2b-2c405ee36b12"
      },
      "id": "9phwx_boGEsu",
      "execution_count": 55,
      "outputs": [
        {
          "output_type": "stream",
          "name": "stdout",
          "text": [
            "Best parameters for RandomizedSearchCV: {'C': 45.360500482124316, 'degree': 0, 'gamma': 1.957236684465528, 'kernel': 'linear'}\n",
            "Best parameters for Optuna: {'kernel': 'linear', 'C': 1.2991743513633927}\n",
            "Best parameters for BayesSearchCV: OrderedDict([('C', 7.10881567460541e-08), ('degree', 2), ('gamma', 1.5664409648278272), ('kernel', 'poly')])\n"
          ]
        }
      ]
    }
  ],
  "metadata": {
    "colab": {
      "provenance": []
    },
    "kernelspec": {
      "display_name": "Python 3 (ipykernel)",
      "language": "python",
      "name": "python3"
    },
    "language_info": {
      "codemirror_mode": {
        "name": "ipython",
        "version": 3
      },
      "file_extension": ".py",
      "mimetype": "text/x-python",
      "name": "python",
      "nbconvert_exporter": "python",
      "pygments_lexer": "ipython3",
      "version": "3.10.13"
    }
  },
  "nbformat": 4,
  "nbformat_minor": 5
}